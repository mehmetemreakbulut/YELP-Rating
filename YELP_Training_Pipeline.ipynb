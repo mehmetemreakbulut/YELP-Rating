{
 "cells": [
  {
   "cell_type": "code",
   "execution_count": 1,
   "id": "1a0c123e-f951-4014-85e1-44b760f0630e",
   "metadata": {
    "tags": []
   },
   "outputs": [],
   "source": [
    "import torch\n",
    "from datasets import load_dataset\n",
    "from transformers import BertTokenizer, BertForSequenceClassification, AdamW, get_linear_schedule_with_warmup\n",
    "from sklearn.metrics import accuracy_score, f1_score\n",
    "from torch.utils.data import DataLoader, RandomSampler, SequentialSampler\n",
    "from sklearn.model_selection import train_test_split"
   ]
  },
  {
   "cell_type": "code",
   "execution_count": 2,
   "id": "0f48c432-7381-4715-9ac3-cc3b325f6037",
   "metadata": {
    "tags": []
   },
   "outputs": [],
   "source": [
    "random_seed = 42\n",
    "torch.manual_seed(random_seed)\n",
    "\n",
    "# Load the dataset\n",
    "dataset = load_dataset(\"yelp_review_full\")\n",
    "#subsample_train = dataset[\"train\"].select(range(6500))\n",
    "#subsample_test = dataset[\"test\"].select(range(50))"
   ]
  },
  {
   "cell_type": "code",
   "execution_count": 3,
   "id": "4581f86d-277c-4b1c-855b-6c174ce801c3",
   "metadata": {
    "tags": []
   },
   "outputs": [],
   "source": [
    "import pandas as pd\n",
    "train_df = pd.DataFrame(dataset[\"train\"])\n",
    "test_dataset = pd.DataFrame(dataset[\"test\"])"
   ]
  },
  {
   "cell_type": "code",
   "execution_count": 4,
   "id": "776afe59-9f48-4278-afda-7bb6d24d16fb",
   "metadata": {
    "tags": []
   },
   "outputs": [],
   "source": [
    "# Randomly split the dataset into train, validation, and test sets\n",
    "train_dataset, val_dataset = train_test_split(train_df, test_size=0.15, random_state=random_seed)"
   ]
  },
  {
   "cell_type": "code",
   "execution_count": 6,
   "id": "7bf98034-b99a-4900-a53c-642a3348e673",
   "metadata": {
    "tags": []
   },
   "outputs": [
    {
     "name": "stderr",
     "output_type": "stream",
     "text": [
      "  0%|                                                                                                                            | 26/552500 [00:00<36:23, 253.00it/s]Token indices sequence length is longer than the specified maximum sequence length for this model (1122 > 512). Running this sequence through the model will result in indexing errors\n",
      "100%|████████████████████████████████████████████████████████████████████████████████████████████████████████████████████████| 552500/552500 [26:24<00:00, 348.76it/s]\n"
     ]
    },
    {
     "name": "stdout",
     "output_type": "stream",
     "text": [
      "Train dataset token length statistics:\n",
      "Maximum token length: 2045\n",
      "Minimum token length: 3\n",
      "Mean token length: 180.71\n",
      "Median token length: 132.0\n"
     ]
    }
   ],
   "source": [
    "from tqdm import tqdm\n",
    "tqdm.pandas()\n",
    "\n",
    "tokenizer = BertTokenizer.from_pretrained(\"bert-base-uncased\")\n",
    "\n",
    "# Function to tokenize without truncation or padding\n",
    "def tokenize_without_truncation(text):\n",
    "    return tokenizer(text, truncation=False, padding=False, return_tensors=\"pt\")[\"input_ids\"].squeeze()\n",
    "\n",
    "# Apply tokenization without truncation and get token lengths\n",
    "train_dataset[\"token_lengths\"] = train_dataset[\"text\"].progress_apply(tokenize_without_truncation).apply(len)\n",
    "\n",
    "# Print token length statistics\n",
    "print(\"Train dataset token length statistics:\")\n",
    "print(f\"Maximum token length: {train_dataset['token_lengths'].max()}\")\n",
    "print(f\"Minimum token length: {train_dataset['token_lengths'].min()}\")\n",
    "print(f\"Mean token length: {train_dataset['token_lengths'].mean():.2f}\")\n",
    "print(f\"Median token length: {train_dataset['token_lengths'].median()}\")"
   ]
  },
  {
   "cell_type": "code",
   "execution_count": 7,
   "id": "46807231-0e71-499c-a417-2c3954f4bbe7",
   "metadata": {
    "tags": []
   },
   "outputs": [
    {
     "data": {
      "image/png": "[encoded data removed]",
      "text/plain": [
       "<Figure size 800x600 with 1 Axes>"
      ]
     },
     "metadata": {},
     "output_type": "display_data"
    }
   ],
   "source": [
    "import matplotlib.pyplot as plt\n",
    "\n",
    "# Plot histogram\n",
    "plt.figure(figsize=(8, 6))\n",
    "train_dataset[\"token_lengths\"].hist(bins=30, density=True, alpha=0.5)\n",
    "plt.title(\"Token Length Distribution\")\n",
    "plt.xlabel(\"Token Length\")\n",
    "plt.ylabel(\"Density\")\n",
    "plt.show()"
   ]
  },
  {
   "cell_type": "code",
   "execution_count": 5,
   "id": "0fca6cf6-a747-4e73-939e-60b4734c2215",
   "metadata": {
    "tags": []
   },
   "outputs": [],
   "source": [
    "CONTEXT_LENGTH = 512"
   ]
  },
  {
   "cell_type": "code",
   "execution_count": 6,
   "id": "4b87d58a-3673-4b68-b45e-051915c6dcf8",
   "metadata": {
    "tags": []
   },
   "outputs": [
    {
     "name": "stderr",
     "output_type": "stream",
     "text": [
      "100%|████████████████████████████████████████████████████████████████████████████████████████████████████████████████████████| 552500/552500 [28:21<00:00, 324.66it/s]\n",
      "100%|██████████████████████████████████████████████████████████████████████████████████████████████████████████████████████████| 97500/97500 [04:59<00:00, 325.83it/s]\n",
      "100%|██████████████████████████████████████████████████████████████████████████████████████████████████████████████████████████| 50000/50000 [02:33<00:00, 324.91it/s]\n"
     ]
    }
   ],
   "source": [
    "from tqdm import tqdm\n",
    "import pandas as pd\n",
    "\n",
    "# Load the BERT tokenizer\n",
    "tokenizer = BertTokenizer.from_pretrained(\"bert-base-uncased\")\n",
    "\n",
    "# Tokenize, pad, and truncate input sequences\n",
    "def tokenize_function(text):\n",
    "    # Tokenize the text\n",
    "    tokenized_output = tokenizer(text, padding=\"max_length\", truncation=True, max_length=CONTEXT_LENGTH, return_tensors=\"pt\")\n",
    "    \n",
    "    # Return the tokenized input_ids, token_type_ids, and attention_mask separately\n",
    "    return {\n",
    "        \"input_ids\": tokenized_output[\"input_ids\"].flatten(),\n",
    "        \"token_type_ids\": tokenized_output[\"token_type_ids\"].flatten(),\n",
    "        \"attention_mask\": tokenized_output[\"attention_mask\"].flatten()\n",
    "    }\n",
    "\n",
    "tqdm.pandas()\n",
    "\n",
    "train_dataset[[\"input_ids\", \"token_type_ids\", \"attention_mask\"]] = train_dataset[\"text\"].progress_apply(tokenize_function).apply(pd.Series)\n",
    "val_dataset[[\"input_ids\", \"token_type_ids\", \"attention_mask\"]] = val_dataset[\"text\"].progress_apply(tokenize_function).apply(pd.Series)\n",
    "test_dataset[[\"input_ids\", \"token_type_ids\", \"attention_mask\"]] = test_dataset[\"text\"].progress_apply(tokenize_function).apply(pd.Series)"
   ]
  },
  {
   "cell_type": "code",
   "execution_count": null,
   "id": "120b120f-3151-4cfd-8707-443fb03afbab",
   "metadata": {
    "tags": []
   },
   "outputs": [],
   "source": [
    "train_input_ids = torch.tensor([token for seq in train_dataset[\"input_ids\"] for token in seq])\n",
    "train_attention_masks = torch.tensor([mask for seq in train_dataset[\"attention_mask\"] for mask in seq])\n",
    "train_labels = torch.tensor(train_dataset[\"label\"].tolist())\n",
    "\n",
    "# Flatten nested lists and convert to tensors for validation dataset\n",
    "val_input_ids = torch.tensor([token for seq in val_dataset[\"input_ids\"] for token in seq])\n",
    "val_attention_masks = torch.tensor([mask for seq in val_dataset[\"attention_mask\"] for mask in seq])\n",
    "val_labels = torch.tensor(val_dataset[\"label\"].tolist())\n",
    "\n",
    "# Flatten nested lists and convert to tensors for test dataset\n",
    "test_input_ids = torch.tensor([token for seq in test_dataset[\"input_ids\"] for token in seq])\n",
    "test_attention_masks = torch.tensor([mask for seq in test_dataset[\"attention_mask\"] for mask in seq])\n",
    "test_labels = torch.tensor(test_dataset[\"label\"].tolist())"
   ]
  },
  {
   "cell_type": "code",
   "execution_count": null,
   "id": "4cd081e1-53b7-4f0a-809c-b422e11ae964",
   "metadata": {
    "tags": []
   },
   "outputs": [],
   "source": [
    "import torch\n",
    "from torch.utils.data import TensorDataset, DataLoader\n",
    "import pandas as pd\n",
    "\n",
    "input_ids_tensor = torch.tensor(train_input_ids).reshape(-1,CONTEXT_LENGTH)\n",
    "attention_mask_tensor = torch.tensor(train_attention_masks).reshape(-1,CONTEXT_LENGTH)\n",
    "label_tensor = torch.tensor(train_dataset['label'].values)\n",
    "\n",
    "# Combine tensors into a dataset\n",
    "train_dataset = TensorDataset(input_ids_tensor, attention_mask_tensor, label_tensor)\n",
    "input_ids_tensor = torch.tensor(val_input_ids).reshape(-1,CONTEXT_LENGTH)\n",
    "attention_mask_tensor = torch.tensor(val_attention_masks).reshape(-1,CONTEXT_LENGTH)\n",
    "label_tensor = torch.tensor(val_dataset['label'].values)\n",
    "val_dataset = TensorDataset(input_ids_tensor, attention_mask_tensor, label_tensor)\n",
    "\n",
    "input_ids_tensor = torch.tensor(test_input_ids).reshape(-1,CONTEXT_LENGTH)\n",
    "attention_mask_tensor = torch.tensor(test_attention_masks).reshape(-1,CONTEXT_LENGTH)\n",
    "label_tensor = torch.tensor(test_dataset['label'].values)\n",
    "test_dataset = TensorDataset(input_ids_tensor, attention_mask_tensor, label_tensor)\n",
    "\n",
    "# Create DataLoader\n",
    "train_dataloader = DataLoader(train_dataset, batch_size=16, shuffle=True)\n",
    "val_dataloader = DataLoader(val_dataset, batch_size=16)\n",
    "test_dataloader = DataLoader(test_dataset, batch_size=16)"
   ]
  },
  {
   "cell_type": "code",
   "execution_count": null,
   "id": "648a1fa8-b5a4-4790-bf01-5b4c5921d09b",
   "metadata": {
    "tags": []
   },
   "outputs": [],
   "source": [
    "from torch.utils.data import TensorDataset, DataLoader\n",
    "# Fine-tune BERT\n",
    "model = BertForSequenceClassification.from_pretrained(\"bert-base-uncased\", num_labels=5)\n",
    "# Freeze BERT parameters\n",
    "for param in model.bert.parameters():\n",
    "    param.requires_grad = False\n",
    "for param in model.classifier.parameters():\n",
    "    param.requires_grad = True\n",
    "\n",
    "# Specify hyperparameters\n",
    "batch_size = 16\n",
    "epochs = 40\n",
    "learning_rate = 2e-5\n",
    "warmup_steps = 3\n",
    "\n",
    "# Set up the optimizer and learning rate scheduler\n",
    "optimizer = AdamW(model.parameters(), lr=learning_rate)\n",
    "total_steps = len(train_dataloader) * epochs\n",
    "scheduler = get_linear_schedule_with_warmup(optimizer, num_warmup_steps=warmup_steps, num_training_steps=total_steps)\n",
    "\n",
    "# Train the model\n",
    "device = torch.device(\"cuda\" if torch.cuda.is_available() else \"cpu\")\n",
    "model.to(device)"
   ]
  },
  {
   "cell_type": "code",
   "execution_count": null,
   "id": "f7d58497-0a81-4145-b069-89e7e1333efc",
   "metadata": {
    "tags": []
   },
   "outputs": [],
   "source": [
    "%%capture captured\n",
    "from tqdm import tqdm\n",
    "from torch.nn.functional import softmax\n",
    "\n",
    "# Loop over epochs\n",
    "for epoch in range(1):\n",
    "    # Training loop with tqdm\n",
    "    model.train()\n",
    "    total_train_loss = 0\n",
    "    total_train_accuracy = 0\n",
    "    progress_bar_train = tqdm(train_dataloader, desc=f'Epoch {epoch+1}/{epochs} (Training)')\n",
    "    for batch in progress_bar_train:\n",
    "        input_ids = batch[0].to(device)\n",
    "        attention_mask = batch[1].to(device)\n",
    "        labels = batch[2].to(device)\n",
    "        \n",
    "        model.zero_grad()\n",
    "        \n",
    "        outputs = model(input_ids=input_ids, attention_mask=attention_mask, labels=labels)\n",
    "        \n",
    "        loss = outputs.loss\n",
    "        total_train_loss += loss.item()\n",
    "        \n",
    "        # Calculate accuracy\n",
    "        logits = outputs.logits\n",
    "        predictions = torch.argmax(logits, dim=-1)\n",
    "        accuracy = (predictions == labels).float().mean()\n",
    "        total_train_accuracy += accuracy.item()\n",
    "        \n",
    "        loss.backward()\n",
    "        torch.nn.utils.clip_grad_norm_(model.parameters(), 1.0)\n",
    "        \n",
    "        optimizer.step()\n",
    "        scheduler.step()\n",
    "        \n",
    "        progress_bar_train.set_postfix({'Training Loss': total_train_loss / len(progress_bar_train),\n",
    "                                        'Training Accuracy': total_train_accuracy / len(progress_bar_train)})\n",
    "        \n",
    "    # Validation loop with tqdm\n",
    "    model.eval()\n",
    "    total_eval_loss = 0\n",
    "    total_eval_accuracy = 0\n",
    "    progress_bar_val = tqdm(val_dataloader, desc=f'Epoch {epoch+1}/{epochs} (Validation)')\n",
    "    with torch.no_grad():\n",
    "        for batch in progress_bar_val:\n",
    "            input_ids = batch[0].to(device)\n",
    "            attention_mask = batch[1].to(device)\n",
    "            labels = batch[2].to(device)\n",
    "\n",
    "            outputs = model(input_ids=input_ids, attention_mask=attention_mask, labels=labels)\n",
    "\n",
    "            loss = outputs.loss\n",
    "            total_eval_loss += loss.item()\n",
    "            \n",
    "            # Calculate accuracy\n",
    "            logits = outputs.logits\n",
    "            predictions = torch.argmax(logits, dim=-1)\n",
    "            accuracy = (predictions == labels).float().mean()\n",
    "            total_eval_accuracy += accuracy.item()\n",
    "            \n",
    "            progress_bar_val.set_postfix({'Validation Loss': total_eval_loss / len(progress_bar_val),\n",
    "                                          'Validation Accuracy': total_eval_accuracy / len(progress_bar_val)})\n",
    "    \n",
    "    # Calculate average loss and accuracy\n",
    "    avg_train_loss = total_train_loss / len(train_dataloader)\n",
    "    avg_val_loss = total_eval_loss / len(val_dataloader)\n",
    "    avg_train_accuracy = total_train_accuracy / len(train_dataloader)\n",
    "    avg_val_accuracy = total_eval_accuracy / len(val_dataloader)\n",
    "    \n",
    "    print(f'Epoch {epoch + 1}/{epochs}')\n",
    "    print(f'Training Loss: {avg_train_loss}, Training Accuracy: {avg_train_accuracy}')\n",
    "    print(f'Validation Loss: {avg_val_loss}, Validation Accuracy: {avg_val_accuracy}')"
   ]
  },
  {
   "cell_type": "code",
   "execution_count": null,
   "id": "61a03772-9cc3-4db7-9a3e-eb713621cc74",
   "metadata": {
    "tags": []
   },
   "outputs": [],
   "source": [
    "captured()"
   ]
  },
  {
   "cell_type": "code",
   "execution_count": null,
   "id": "65a2e417-ea1e-4380-8e42-cc9306c4479b",
   "metadata": {
    "tags": []
   },
   "outputs": [],
   "source": [
    "# Evaluate the model on the test set\n",
    "test_accuracy = []\n",
    "test_f1 = []\n",
    "for batch in test_dataloader:\n",
    "    input_ids = batch[0].to(device)\n",
    "    attention_mask = batch[1].to(device)\n",
    "    labels = batch[2].to(device)\n",
    "    \n",
    "    with torch.no_grad():\n",
    "        outputs = model(input_ids, attention_mask=attention_mask)\n",
    "    \n",
    "    predictions = torch.argmax(outputs.logits, dim=1)\n",
    "    test_accuracy.append(accuracy_score(labels.cpu(), predictions.cpu()))\n",
    "    test_f1.append(f1_score(labels.cpu(), predictions.cpu(), average=\"weighted\"))\n",
    "\n",
    "print(f\"Test Accuracy: {sum(test_accuracy)/len(test_accuracy):.4f}\")\n",
    "print(f\"Test F1 Score: {sum(test_f1)/len(test_f1):.4f}\")\n",
    "\n",
    "# Save the trained model and tokenizer\n",
    "model.save_pretrained(\"yelp_review_model\")\n",
    "tokenizer.save_pretrained(\"yelp_review_tokenizer\")"
   ]
  },
  {
   "cell_type": "code",
   "execution_count": null,
   "id": "75092b27-fccb-4e30-800f-3782f289f45b",
   "metadata": {},
   "outputs": [],
   "source": []
  }
 ],
 "metadata": {
  "kernelspec": {
   "display_name": "Python 3 (Local)",
   "language": "python",
   "name": "python3"
  },
  "language_info": {
   "codemirror_mode": {
    "name": "ipython",
    "version": 3
   },
   "file_extension": ".py",
   "mimetype": "text/x-python",
   "name": "python",
   "nbconvert_exporter": "python",
   "pygments_lexer": "ipython3",
   "version": "3.10.13"
  }
 },
 "nbformat": 4,
 "nbformat_minor": 5
}
