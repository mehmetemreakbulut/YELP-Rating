{
  "nbformat": 4,
  "nbformat_minor": 0,
  "metadata": {
    "colab": {
      "provenance": []
    },
    "kernelspec": {
      "name": "python3",
      "display_name": "Python 3"
    }
  },
  "cells": [
    {
      "cell_type": "markdown",
      "metadata": {
        "id": "wQNXQUlKwVDQ"
      },
      "source": [
        "# Comparing Transformer Tokenizers"
      ]
    },
    {
      "cell_type": "markdown",
      "metadata": {
        "id": "L-NDo_MpwaH6"
      },
      "source": [
        "## Word2Vec and GloVe dictionary download"
      ]
    },
    {
      "cell_type": "code",
      "metadata": {
        "id": "Vhs8Hjlao9VP"
      },
      "source": [
        "!wget -P /root/input/ -c \"https://s3.amazonaws.com/dl4j-distribution/GoogleNews-vectors-negative300.bin.gz\"\n",
        "!wget -P /root/input/ -c \"http://nlp.stanford.edu/data/glove.6B.zip\""
      ],
      "execution_count": null,
      "outputs": []
    },
    {
      "cell_type": "code",
      "metadata": {
        "id": "DHHOb8GsIN4f"
      },
      "source": [
        "!unzip '/root/input/glove.6B.zip'"
      ],
      "execution_count": null,
      "outputs": []
    },
    {
      "cell_type": "code",
      "metadata": {
        "id": "q9q5zYTqo_PX"
      },
      "source": [
        "from gensim.scripts.glove2word2vec import glove2word2vec\n",
        "glove_input_file = 'glove.6B.300d.txt'\n",
        "word2vec_output_file = 'glove.6B.300d.txt.word2vec'\n",
        "glove2word2vec(glove_input_file, word2vec_output_file)"
      ],
      "execution_count": null,
      "outputs": []
    },
    {
      "cell_type": "code",
      "metadata": {
        "id": "yIjrh3P8pNRq"
      },
      "source": [
        "from gensim.models import KeyedVectors\n",
        "import gensim\n",
        "WORD2WEC_EMBEDDING_FILE = '/root/input/GoogleNews-vectors-negative300.bin.gz' # from above\n",
        "word2vec = KeyedVectors.load_word2vec_format(WORD2WEC_EMBEDDING_FILE, binary=True)\n",
        "#word2vec30k = KeyedVectors.load_word2vec_format(WORD2WEC_EMBEDDING_FILE, binary=True, limit=30000)"
      ],
      "execution_count": null,
      "outputs": []
    },
    {
      "cell_type": "code",
      "metadata": {
        "id": "bSTNpCwpJbjx"
      },
      "source": [
        "glove = KeyedVectors.load_word2vec_format(word2vec_output_file, binary=False)"
      ],
      "execution_count": null,
      "outputs": []
    },
    {
      "cell_type": "markdown",
      "metadata": {
        "id": "zzLaYsKVwoXV"
      },
      "source": [
        "## HuggingFace Transformers"
      ]
    },
    {
      "cell_type": "code",
      "metadata": {
        "id": "eGDYEn1erWB8"
      },
      "source": [
        "!pip install transformers\n",
        "from transformers import *\n"
      ],
      "execution_count": null,
      "outputs": []
    },
    {
      "cell_type": "code",
      "metadata": {
        "id": "xzFJwDDB88OE"
      },
      "source": [
        "!wget -P /root/input/ -c \"https://s3.amazonaws.com/models.huggingface.co/bert/xlm-mlm-en-2048-vocab.json\"\n",
        "!wget -P /root/input -c \"https://s3.amazonaws.com/models.huggingface.co/bert/gpt2-xl-vocab.json\"\n",
        "!wget -P /root/input -c \"https://s3.amazonaws.com/models.huggingface.co/bert/roberta-base-vocab.json\""
      ],
      "execution_count": null,
      "outputs": []
    },
    {
      "cell_type": "markdown",
      "metadata": {
        "id": "5h_4uoxqwFsB"
      },
      "source": [
        "## GPT-2 and RoBERTa shares the same vocabulary in HuggingFace"
      ]
    },
    {
      "cell_type": "code",
      "metadata": {
        "id": "JUj48AQw481f"
      },
      "source": [
        "import json"
      ],
      "execution_count": null,
      "outputs": []
    },
    {
      "cell_type": "code",
      "metadata": {
        "id": "nP7wA6CP9HPN"
      },
      "source": [
        "with open('/root/input/roberta-base-vocab.json',  encoding=\"utf-8\") as json_file:\n",
        "    roberta_data = json.load(json_file)"
      ],
      "execution_count": null,
      "outputs": []
    },
    {
      "cell_type": "code",
      "metadata": {
        "id": "0EfYntxeWp6l"
      },
      "source": [
        "with open('/root/input/gpt2-xl-vocab.json',  encoding=\"utf-8\") as json_file:\n",
        "    gpt2_data = json.load(json_file)"
      ],
      "execution_count": null,
      "outputs": []
    },
    {
      "cell_type": "markdown",
      "metadata": {
        "id": "nKHGFRivv3KR"
      },
      "source": [
        "Removing special characters"
      ]
    },
    {
      "cell_type": "code",
      "metadata": {
        "id": "eOvnNa4Z-VWO"
      },
      "source": [
        "replacer = lambda x: x.replace('\\u0120', \"\")\n",
        "roberta_data = list(map(replacer, roberta_data))\n",
        "gpt2_data = list(map(replacer, gpt2_data))"
      ],
      "execution_count": null,
      "outputs": []
    },
    {
      "cell_type": "markdown",
      "metadata": {
        "id": "nzqgcwPEwwKh"
      },
      "source": [
        "Vocabulary comparison"
      ]
    },
    {
      "cell_type": "code",
      "metadata": {
        "id": "lEs8H9U2sOCf"
      },
      "source": [
        "def get_vocab_sim(first_vocab_keys, second_vocab_keys):\n",
        "    f_set =set(first_vocab_keys)\n",
        "    s_set = set(second_vocab_keys)\n",
        "    intersection = f_set.intersection(s_set)\n",
        "    return intersection, len(intersection)/len(f_set), len(intersection)/len(s_set)"
      ],
      "execution_count": null,
      "outputs": []
    },
    {
      "cell_type": "code",
      "metadata": {
        "id": "uK7QaGEQ-aDF",
        "outputId": "c5bd820a-2a80-4f12-8c5b-89f7bfbf876b",
        "colab": {
          "base_uri": "https://localhost:8080/",
          "height": 34
        }
      },
      "source": [
        "_, f, s = get_vocab_sim(roberta_data, gpt2_data)\n",
        "print(f,s)"
      ],
      "execution_count": null,
      "outputs": [
        {
          "output_type": "stream",
          "text": [
            "0.9998082730192206 1.0\n"
          ],
          "name": "stdout"
        }
      ]
    },
    {
      "cell_type": "markdown",
      "metadata": {
        "id": "a8vFqnMTxA23"
      },
      "source": [
        "Expected output: 0.9998082730192206 1.0"
      ]
    },
    {
      "cell_type": "markdown",
      "metadata": {
        "id": "vPaujiUrvp-l"
      },
      "source": [
        "## Comparing Tokenizer vocabularies"
      ]
    },
    {
      "cell_type": "code",
      "metadata": {
        "id": "cokkVXTWgTRZ"
      },
      "source": [
        "import json"
      ],
      "execution_count": null,
      "outputs": []
    },
    {
      "cell_type": "markdown",
      "metadata": {
        "id": "1Rro14dixJ6Y"
      },
      "source": [
        "Removing special characters"
      ]
    },
    {
      "cell_type": "code",
      "metadata": {
        "id": "LikkX4wpYLKu"
      },
      "source": [
        "replacer = lambda x: x.replace('\\u0120', \"\")\n",
        "replacer2 = lambda x: x.replace('##', \"\")\n",
        "replacer3 = lambda x: x.replace(\"</w>\", \"\")\n",
        "#gpt2_data = list(map(replacer, gpt2_data))"
      ],
      "execution_count": null,
      "outputs": []
    },
    {
      "cell_type": "markdown",
      "metadata": {
        "id": "paUP3nlKxTUL"
      },
      "source": [
        "Loading models and vocabularies"
      ]
    },
    {
      "cell_type": "code",
      "metadata": {
        "id": "Cn1TRuqWY0nX"
      },
      "source": [
        "bert_uncased = BertTokenizer.from_pretrained('bert-base-uncased')\n",
        "bert_cased = BertTokenizer.from_pretrained('bert-base-cased')\n",
        "bert_multi = BertTokenizer.from_pretrained('bert-base-multilingual-cased')\n",
        "xlm = XLMTokenizer.from_pretrained('xlm-mlm-en-2048')\n",
        "gpt2 = GPT2Tokenizer.from_pretrained('gpt2')\n",
        "\n",
        "with open('/root/input/gpt2-xl-vocab.json',  encoding=\"utf-8\") as json_file:\n",
        "    gpt2_data = json.load(json_file)\n",
        "\n",
        "with open('/root/input/xlm-mlm-en-2048-vocab.json',  encoding=\"utf-8\") as json_file:\n",
        "    xlm_data = json.load(json_file)"
      ],
      "execution_count": null,
      "outputs": []
    },
    {
      "cell_type": "markdown",
      "metadata": {
        "id": "m5PvssglxVjx"
      },
      "source": [
        "Removing special characters"
      ]
    },
    {
      "cell_type": "code",
      "metadata": {
        "id": "4IonilV-ZfHs"
      },
      "source": [
        "bert_uncased_woc = list(map(replacer2,bert_uncased.vocab.keys()))\n",
        "bert_cased_woc = list(map(replacer2, bert_cased.vocab.keys()))\n",
        "bert_multi_woc = list(map(replacer2,bert_multi.vocab.keys()))\n",
        "\n",
        "gpt2_data_woc = list(map(replacer, gpt2_data_woc))\n",
        "\n",
        "xlm_data_woc = list(map(replacer3, xlm_data.keys()))\n",
        "\n",
        "word2vec_woc = list(map(replacer2, word2vec.vocab.keys()))\n",
        "glove_woc = list(map(replacer2, glove.vocab.keys()))\n"
      ],
      "execution_count": null,
      "outputs": []
    },
    {
      "cell_type": "markdown",
      "metadata": {
        "id": "tCvsKDvOxZDh"
      },
      "source": [
        "Comparing vocabularies"
      ]
    },
    {
      "cell_type": "code",
      "metadata": {
        "id": "fO4SMeJoaXHb",
        "outputId": "0675ddcc-2994-4692-bb85-ef8c30ab5095",
        "colab": {
          "base_uri": "https://localhost:8080/",
          "height": 136
        }
      },
      "source": [
        "first_vocab = bert_cased_woc\n",
        "\n",
        "_, f, s = get_vocab_sim(first_vocab, bert_cased_woc)\n",
        "print (f, s)\n",
        "_, f, s = get_vocab_sim(first_vocab, bert_uncased_woc)\n",
        "print (f, s)\n",
        "_, f, s = get_vocab_sim(first_vocab, bert_multi_woc)\n",
        "print (f, s)\n",
        "_, f, s = get_vocab_sim(first_vocab, xlm_data_woc)\n",
        "print (f, s)\n",
        "_, f, s = get_vocab_sim(first_vocab, gpt2_data_woc)\n",
        "print (f, s)\n",
        "_, f, s = get_vocab_sim(first_vocab, word2vec_woc)\n",
        "print (f, s)\n",
        "_, f, s = get_vocab_sim(first_vocab, glove_woc)\n",
        "print (f, s)"
      ],
      "execution_count": null,
      "outputs": [
        {
          "output_type": "stream",
          "text": [
            "1.0 1.0\n",
            "0.6391771821100575 0.6155754503289829\n",
            "0.658067647278429 0.16918617485866758\n",
            "0.5847830956469797 0.574551590067124\n",
            "0.78772493093407 0.5058617630840785\n",
            "0.8769133129246621 0.007851291741219232\n",
            "0.6091241693421937 0.04079010197525494\n"
          ],
          "name": "stdout"
        }
      ]
    },
    {
      "cell_type": "markdown",
      "metadata": {
        "id": "TzqM807cxgQA"
      },
      "source": [
        "## Tokenizer Differences"
      ]
    },
    {
      "cell_type": "code",
      "metadata": {
        "id": "jlv_h0LBgogu",
        "outputId": "20d862ce-9c29-4a08-b0cb-c978a7497967",
        "colab": {
          "base_uri": "https://localhost:8080/",
          "height": 51
        }
      },
      "source": [
        "same_words = 0\n",
        "wrong_words = 0\n",
        "wrong_word_counter_list = []\n",
        "for word in list(word2vec.vocab.keys())[:10000]:\n",
        "    word = word.lower()\n",
        "    bert_uncased_token = bert_uncased.tokenize(word)\n",
        "    bert_uncased_token = list(map(replacer2, bert_uncased_token))\n",
        "    bert_cased_token = bert_cased.tokenize(word)\n",
        "    bert_cased_token = list(map(replacer2, bert_cased_token))\n",
        "    bert_multi_token = bert_multi.tokenize(word)\n",
        "    bert_multi_token = list(map(replacer2, bert_multi_token))\n",
        "    gpt2_token = gpt2.tokenize(word)\n",
        "    gpt2_token = list(map(replacer, gpt2_token))\n",
        "    xlm_token = xlm.tokenize(word)\n",
        "    xlm_token = list(map(replacer3, xlm_token))\n",
        "    #if len(bert_uncased_token) == 1 and len(bert_multi_token) == 1 and len(gpt2_token) == 1 and len(xlm_token) == 1:\n",
        "    #    same_words +=1\n",
        "    if bert_uncased_token == bert_cased_token and bert_uncased_token == bert_multi_token and bert_uncased_token == gpt2_token and bert_uncased_token == xlm_token:\n",
        "        same_words += 1\n",
        "    else:\n",
        "        wrong_words +=1\n",
        "        #print(bert_uncased_token, bert_cased_token, bert_multi_token, gpt2_token, xlm_token)\n",
        "    wrong_word_counter_list.append(same_words)\n",
        "print(same_words)\n",
        "print(wrong_words)"
      ],
      "execution_count": null,
      "outputs": [
        {
          "output_type": "stream",
          "text": [
            "3055\n",
            "6945\n"
          ],
          "name": "stdout"
        }
      ]
    },
    {
      "cell_type": "code",
      "metadata": {
        "id": "BLsQSV6h4WTo",
        "outputId": "9d8ad447-c70a-4ff3-d69c-c8e3c34b18fe",
        "colab": {
          "base_uri": "https://localhost:8080/",
          "height": 551
        }
      },
      "source": [
        "import matplotlib.pyplot as plt\n",
        "import numpy as np\n",
        "plt.figure(figsize=(28,9))\n",
        "minor_ticks = np.arange(0,11000,500)\n",
        "plt.xticks(minor_ticks)\n",
        "plt.grid()\n",
        "plt.xlabel(\"Total words\")\n",
        "plt.ylabel(\"Words tokenised the same way\")\n",
        "plt.plot(wrong_word_counter_list[:10000])\n",
        "plt.show()"
      ],
      "execution_count": null,
      "outputs": [
        {
          "output_type": "display_data",
          "data": {
            "image/png": "[encoded data removed]",
            "text/plain": [
              "<Figure size 2016x648 with 1 Axes>"
            ]
          },
          "metadata": {
            "tags": []
          }
        }
      ]
    },
    {
      "cell_type": "code",
      "metadata": {
        "id": "vLeHU6FNuso7"
      },
      "source": [
        "['Marion'] ['marion'] ['Marion'] ['Mar', 'ion'] ['marion']\n",
        "All: 2184\n",
        "Lower: 3055\n",
        "['b', 'ap', 'tist'] ['baptist'] ['ba', 'ptis', 't'] ['b', 'apt', 'ist'] ['baptist']\n",
        "['n', 'ug', 'gets'] ['nu', 'gg', 'ets'] ['nu', 'gge', 'ts'] ['n', 'uggets'] ['nu', 'g', 'gets']\n",
        "763"
      ],
      "execution_count": null,
      "outputs": []
    },
    {
      "cell_type": "code",
      "metadata": {
        "id": "C43-nOjZDcDn",
        "outputId": "34fe449c-e370-41fe-a7c4-2ad9b05bfc37",
        "colab": {
          "base_uri": "https://localhost:8080/",
          "height": 34
        }
      },
      "source": [
        "bert_cased.tokenize(\"tokenization\")"
      ],
      "execution_count": null,
      "outputs": [
        {
          "output_type": "execute_result",
          "data": {
            "text/plain": [
              "['token', '##ization']"
            ]
          },
          "metadata": {
            "tags": []
          },
          "execution_count": 63
        }
      ]
    },
    {
      "cell_type": "code",
      "metadata": {
        "id": "e-XBuo_1DjWN",
        "outputId": "51f9c462-699b-4720-dd58-1a2cb8761e59",
        "colab": {
          "base_uri": "https://localhost:8080/",
          "height": 34
        }
      },
      "source": [
        "gpt2.tokenize(\"tokenization\")"
      ],
      "execution_count": null,
      "outputs": [
        {
          "output_type": "execute_result",
          "data": {
            "text/plain": [
              "['token', 'ization']"
            ]
          },
          "metadata": {
            "tags": []
          },
          "execution_count": 68
        }
      ]
    },
    {
      "cell_type": "code",
      "metadata": {
        "id": "cyPmjG6vQDlV",
        "outputId": "9da8f121-b444-4de6-865e-969934d98a88",
        "colab": {
          "base_uri": "https://localhost:8080/",
          "height": 34
        }
      },
      "source": [
        "xlm.tokenize(\"tokenization\")"
      ],
      "execution_count": null,
      "outputs": [
        {
          "output_type": "execute_result",
          "data": {
            "text/plain": [
              "['to', 'ken', 'ization</w>']"
            ]
          },
          "metadata": {
            "tags": []
          },
          "execution_count": 69
        }
      ]
    },
    {
      "cell_type": "code",
      "metadata": {
        "id": "n9tf2SDSSCGR"
      },
      "source": [],
      "execution_count": null,
      "outputs": []
    }
  ]
}