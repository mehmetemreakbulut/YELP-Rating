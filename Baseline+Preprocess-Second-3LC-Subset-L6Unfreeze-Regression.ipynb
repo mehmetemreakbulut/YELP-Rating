{
 "cells": [
  {
   "cell_type": "markdown",
   "id": "4776906d-fa90-4fe7-878a-cd9d1a0441b3",
   "metadata": {},
   "source": [
    "Upon to the last experiment, we wanted to see the effect of ordinality. Because, in the previous ones we treated classes as unordinary due to the softmax. Now, we want to preserve the ordinality with sigmoid activation function."
   ]
  },
  {
   "cell_type": "code",
   "execution_count": 1,
   "id": "8833dfbe-6b4b-408c-aa70-ba81844bad43",
   "metadata": {
    "tags": []
   },
   "outputs": [],
   "source": [
    "import torch\n",
    "from torch.utils.data import Dataset, DataLoader\n",
    "from transformers import BertTokenizer\n",
    "from tqdm import tqdm\n",
    "from sklearn.model_selection import train_test_split\n",
    "\n",
    "# Define the dataset class\n",
    "class YelpDataset(Dataset):\n",
    "    def __init__(self, input_ids, token_type_ids, attention_mask, labels):\n",
    "        self.input_ids = input_ids\n",
    "        self.token_type_ids = token_type_ids\n",
    "        self.attention_mask = attention_mask\n",
    "        self.labels = labels\n",
    "\n",
    "    def __len__(self):\n",
    "        return len(self.labels)\n",
    "\n",
    "    def __getitem__(self, idx):\n",
    "        return {\n",
    "            'input_ids': self.input_ids[idx],\n",
    "            'token_type_ids': self.token_type_ids[idx],\n",
    "            'attention_mask': self.attention_mask[idx],\n",
    "            'labels': self.labels[idx]\n",
    "        }\n"
   ]
  },
  {
   "cell_type": "code",
   "execution_count": 2,
   "id": "e4c986f1-289a-466a-bfb3-bdd56bb6b190",
   "metadata": {
    "tags": []
   },
   "outputs": [],
   "source": [
    "# Load each part of the dataset\n",
    "data_parts = []\n",
    "for i in range(1, 6):\n",
    "    part_data = torch.load(f'./YELP-Rating/prep2_yelp_data_part_{i}.pt')\n",
    "    data_parts.append(part_data)"
   ]
  },
  {
   "cell_type": "code",
   "execution_count": 3,
   "id": "e52cb1b8-418f-4ef9-a30f-073ad47f1bac",
   "metadata": {
    "tags": []
   },
   "outputs": [],
   "source": [
    "from torch.utils.data import TensorDataset, DataLoader\n",
    "# Combine data_parts into a single TensorDataset\n",
    "full_dataset = TensorDataset(\n",
    "    torch.cat([part['input_ids'] for part in data_parts]),\n",
    "    torch.cat([part['token_type_ids'] for part in data_parts]),\n",
    "    torch.cat([part['attention_mask'] for part in data_parts]),\n",
    "    torch.cat([part['labels'] for part in data_parts])\n",
    ")"
   ]
  },
  {
   "cell_type": "code",
   "execution_count": 4,
   "id": "1675667a-fec9-478b-8854-815c4d4972a7",
   "metadata": {
    "tags": []
   },
   "outputs": [],
   "source": [
    "from sklearn.model_selection import StratifiedShuffleSplit\n",
    "from torch.utils.data import Subset\n",
    "labels = full_dataset.tensors[-1].numpy()\n",
    "\n",
    "# Create a StratifiedShuffleSplit object\n",
    "sss = StratifiedShuffleSplit(n_splits=1, test_size=0.9, random_state=42)\n",
    "\n",
    "# Get the indices for the subset\n",
    "subset_indices, _ = next(sss.split(torch.zeros(len(labels)), labels))\n",
    "\n",
    "# Create a Subset of the original dataset using the subset indices\n",
    "subset_dataset = Subset(full_dataset, subset_indices)\n",
    "\n",
    "# Convert the Subset to a TensorDataset\n",
    "subset_tensors = [tensor[subset_indices] for tensor in subset_dataset.dataset.tensors]\n",
    "del full_dataset\n",
    "full_dataset = TensorDataset(*subset_tensors)"
   ]
  },
  {
   "cell_type": "code",
   "execution_count": 5,
   "id": "57564d8b-263f-4aa9-81c2-bfdee8a3f95e",
   "metadata": {
    "tags": []
   },
   "outputs": [],
   "source": [
    "# Load each part of the dataset\n",
    "data_parts = []\n",
    "for i in range(1, 6):\n",
    "    part_data = torch.load(f'./YELP-Rating/test_prep2_yelp_data_part_{i}.pt')\n",
    "    data_parts.append(part_data)"
   ]
  },
  {
   "cell_type": "code",
   "execution_count": 6,
   "id": "0f805788-132c-4215-a5e0-aa4e43869cdc",
   "metadata": {
    "tags": []
   },
   "outputs": [],
   "source": [
    "from torch.utils.data import TensorDataset, DataLoader\n",
    "# Combine data_parts into a single TensorDataset\n",
    "test_dataset = TensorDataset(\n",
    "    torch.cat([part['input_ids'] for part in data_parts]),\n",
    "    torch.cat([part['token_type_ids'] for part in data_parts]),\n",
    "    torch.cat([part['attention_mask'] for part in data_parts]),\n",
    "    torch.cat([part['labels'] for part in data_parts])\n",
    ")"
   ]
  },
  {
   "cell_type": "code",
   "execution_count": 7,
   "id": "aad864ec-8565-4ebc-917d-beccb46d97c7",
   "metadata": {
    "tags": []
   },
   "outputs": [],
   "source": [
    "labels = test_dataset.tensors[-1].numpy()\n",
    "\n",
    "# Create a StratifiedShuffleSplit object\n",
    "sss = StratifiedShuffleSplit(n_splits=1, test_size=0.9, random_state=42)\n",
    "\n",
    "# Get the indices for the subset\n",
    "subset_indices, _ = next(sss.split(torch.zeros(len(labels)), labels))\n",
    "\n",
    "# Create a Subset using the selected indices\n",
    "subset_dataset = Subset(test_dataset, subset_indices)\n",
    "# Convert the Subset to a TensorDataset\n",
    "subset_tensors = [tensor[subset_indices] for tensor in subset_dataset.dataset.tensors]\n",
    "del test_dataset\n",
    "test_dataset = TensorDataset(*subset_tensors)"
   ]
  },
  {
   "cell_type": "code",
   "execution_count": 8,
   "id": "b1db4a5d-8f22-472b-afc4-5b9b156adfa7",
   "metadata": {
    "tags": []
   },
   "outputs": [],
   "source": [
    "del data_parts"
   ]
  },
  {
   "cell_type": "code",
   "execution_count": 9,
   "id": "05a0f854-383a-4209-8348-59babde6f27a",
   "metadata": {
    "tags": []
   },
   "outputs": [],
   "source": [
    "#subset_indices = range(500)  # Example indices for the subset\n",
    "\n",
    "#full_dataset = torch.utils.data.Subset(full_dataset, subset_indices)"
   ]
  },
  {
   "cell_type": "code",
   "execution_count": 10,
   "id": "ff31c52e-e7cd-43c9-9adf-683d07e95108",
   "metadata": {
    "tags": []
   },
   "outputs": [],
   "source": [
    "import torch\n",
    "from sklearn.model_selection import train_test_split\n",
    "\n",
    "\n",
    "# Use train_test_split to split the dataset into training, validation, and test sets\n",
    "train_size = int(0.9 * len(full_dataset))\n",
    "val_size = (len(full_dataset) - train_size)\n",
    "\n",
    "train_dataset, val_dataset = torch.utils.data.random_split(\n",
    "    full_dataset, [train_size, val_size], generator=torch.Generator().manual_seed(42)\n",
    ")\n",
    "\n",
    "# Define batch size\n",
    "batch_size = 32\n",
    "\n",
    "# Create data loaders\n",
    "train_loader = DataLoader(train_dataset, batch_size=batch_size, shuffle=True, num_workers=8)\n",
    "val_loader = DataLoader(val_dataset, batch_size=batch_size, shuffle=False, num_workers=8)\n",
    "test_loader = DataLoader(test_dataset, batch_size=batch_size, shuffle=False, num_workers=8)"
   ]
  },
  {
   "cell_type": "code",
   "execution_count": 11,
   "id": "cf1366fa-5854-4f1c-b277-775a78eb8196",
   "metadata": {
    "tags": []
   },
   "outputs": [
    {
     "name": "stderr",
     "output_type": "stream",
     "text": [
      "/opt/conda/lib/python3.10/site-packages/transformers/optimization.py:588: FutureWarning: This implementation of AdamW is deprecated and will be removed in a future version. Use the PyTorch implementation torch.optim.AdamW instead, or set `no_deprecation_warning=True` to disable this warning\n",
      "  warnings.warn(\n"
     ]
    },
    {
     "data": {
      "text/plain": [
       "BERTRegression(\n",
       "  (bert): BertModel(\n",
       "    (embeddings): BertEmbeddings(\n",
       "      (word_embeddings): Embedding(30522, 768, padding_idx=0)\n",
       "      (position_embeddings): Embedding(512, 768)\n",
       "      (token_type_embeddings): Embedding(2, 768)\n",
       "      (LayerNorm): LayerNorm((768,), eps=1e-12, elementwise_affine=True)\n",
       "      (dropout): Dropout(p=0.1, inplace=False)\n",
       "    )\n",
       "    (encoder): BertEncoder(\n",
       "      (layer): ModuleList(\n",
       "        (0-11): 12 x BertLayer(\n",
       "          (attention): BertAttention(\n",
       "            (self): BertSdpaSelfAttention(\n",
       "              (query): Linear(in_features=768, out_features=768, bias=True)\n",
       "              (key): Linear(in_features=768, out_features=768, bias=True)\n",
       "              (value): Linear(in_features=768, out_features=768, bias=True)\n",
       "              (dropout): Dropout(p=0.1, inplace=False)\n",
       "            )\n",
       "            (output): BertSelfOutput(\n",
       "              (dense): Linear(in_features=768, out_features=768, bias=True)\n",
       "              (LayerNorm): LayerNorm((768,), eps=1e-12, elementwise_affine=True)\n",
       "              (dropout): Dropout(p=0.1, inplace=False)\n",
       "            )\n",
       "          )\n",
       "          (intermediate): BertIntermediate(\n",
       "            (dense): Linear(in_features=768, out_features=3072, bias=True)\n",
       "            (intermediate_act_fn): GELUActivation()\n",
       "          )\n",
       "          (output): BertOutput(\n",
       "            (dense): Linear(in_features=3072, out_features=768, bias=True)\n",
       "            (LayerNorm): LayerNorm((768,), eps=1e-12, elementwise_affine=True)\n",
       "            (dropout): Dropout(p=0.1, inplace=False)\n",
       "          )\n",
       "        )\n",
       "      )\n",
       "    )\n",
       "    (pooler): BertPooler(\n",
       "      (dense): Linear(in_features=768, out_features=768, bias=True)\n",
       "      (activation): Tanh()\n",
       "    )\n",
       "  )\n",
       "  (classifier1): Linear(in_features=768, out_features=256, bias=True)\n",
       "  (classifier2): Linear(in_features=256, out_features=64, bias=True)\n",
       "  (classifier3): Linear(in_features=64, out_features=1, bias=True)\n",
       "  (activate): Tanh()\n",
       "  (dropout): Dropout(p=0.1, inplace=False)\n",
       "  (sigmoid): Sigmoid()\n",
       ")"
      ]
     },
     "execution_count": 11,
     "metadata": {},
     "output_type": "execute_result"
    }
   ],
   "source": [
    "from transformers import BertModel, BertTokenizer, BertForSequenceClassification, AdamW, get_linear_schedule_with_warmup\n",
    "from torch.utils.data import TensorDataset, DataLoader\n",
    "import torch.nn as nn\n",
    "import torch.nn.functional as F\n",
    "\n",
    "# Define the model architecture for regression\n",
    "class BERTRegression(torch.nn.Module):\n",
    "    def __init__(self):\n",
    "        super(BERTRegression, self).__init__()\n",
    "        self.bert = BertModel.from_pretrained(\"bert-base-uncased\")\n",
    "        self.classifier1 = torch.nn.Linear(768, 256)\n",
    "        self.classifier2 = torch.nn.Linear(256, 64)\n",
    "        self.classifier3 = torch.nn.Linear(64, 1)\n",
    "        self.activate = torch.nn.Tanh()\n",
    "        self.dropout = torch.nn.Dropout(0.1)\n",
    "        self.sigmoid = torch.nn.Sigmoid()\n",
    "        \n",
    "    def forward(self, input_ids, attention_mask):\n",
    "        output_1 = self.bert(input_ids=input_ids, attention_mask=attention_mask)\n",
    "        hidden_state = output_1[0]\n",
    "        pooler = hidden_state[:, 0]\n",
    "        x1 = self.classifier1(pooler)\n",
    "        x1_a = self.activate(x1)\n",
    "        x1_drop = self.dropout(x1_a)\n",
    "        x2 = self.classifier2(x1_drop)\n",
    "        x2_a = self.activate(x2)\n",
    "        x2_drop = self.dropout(x2_a)\n",
    "        x3 = self.classifier3(x2_drop)\n",
    "        out = self.sigmoid(x3)\n",
    "        return out\n",
    "\n",
    "model = BERTRegression()\n",
    "criterion = nn.MSELoss()\n",
    "\n",
    "# Specify hyperparameters\n",
    "epochs = 4\n",
    "bert_learning_rate = 1e-5  # Lower learning rate for BERT parameters\n",
    "classifier_learning_rate = 5e-4\n",
    "warmup_steps = 3\n",
    "\n",
    "bert_layers = model.bert.encoder.layer\n",
    "num_bert_layers = len(bert_layers)\n",
    "bert_params_last_6 = []\n",
    "bert_params_rest = []\n",
    "classifier_params = []\n",
    "\n",
    "for name, param in model.named_parameters():\n",
    "    if 'classifier' in name:\n",
    "        classifier_params.append(param)\n",
    "    elif 'bert.encoder.layer' in name:\n",
    "        layer_num = int(name.split('.')[3])\n",
    "        if layer_num >= num_bert_layers - 6:\n",
    "            bert_params_last_6.append(param)\n",
    "        else:\n",
    "            param.requires_grad = False  # Freeze the previous layers\n",
    "    else:\n",
    "        bert_params_rest.append(param)\n",
    "\n",
    "# Set up the optimizer with different learning rates for BERT layers and classifier\n",
    "optimizer_grouped_parameters = [\n",
    "    {'params': bert_params_last_6, 'lr': bert_learning_rate},\n",
    "    {'params': classifier_params, 'lr': classifier_learning_rate}\n",
    "]\n",
    "optimizer = AdamW(optimizer_grouped_parameters)\n",
    "\n",
    "total_steps = len(train_loader) * epochs\n",
    "scheduler = get_linear_schedule_with_warmup(optimizer, num_warmup_steps=warmup_steps, num_training_steps=total_steps)\n",
    "\n",
    "# Train the model\n",
    "device = torch.device(\"cuda\" if torch.cuda.is_available() else \"cpu\")\n",
    "model.to(device)"
   ]
  },
  {
   "cell_type": "code",
   "execution_count": 12,
   "id": "002df0eb-71f6-4365-be78-b8e2d5d04cef",
   "metadata": {
    "tags": []
   },
   "outputs": [],
   "source": [
    "%%capture outs1\n",
    "# Training loop\n",
    "for epoch in range(epochs):\n",
    "    # Training loop\n",
    "    model.train()\n",
    "    total_train_loss = 0\n",
    "    total_train_accuracy = 0\n",
    "    print(f'Epoch {epoch+1}/{epochs}')\n",
    "    #progress_bar_train = tqdm(train_loader, desc=f'Epoch {epoch+1}/{epochs} (Training)')\n",
    "    for batch in train_loader:\n",
    "    #for batch in progress_bar_train:\n",
    "        input_ids = batch[0].to(device)\n",
    "        attention_mask = batch[2].to(device)\n",
    "        labels = batch[3].to(device).float()  # Convert labels to float for regression\n",
    "        labels = labels / 4\n",
    "        \n",
    "        model.zero_grad()\n",
    "        \n",
    "        outputs = model(input_ids=input_ids, attention_mask=attention_mask).squeeze()\n",
    "        loss = criterion(outputs, labels)  # Use the regression loss function\n",
    "        total_train_loss += loss.item()\n",
    "        \n",
    "        # Calculate accuracy\n",
    "        predictions = torch.round(outputs * 4) / 4  # Round the scaled predictions to the nearest quarter\n",
    "        accuracy = (predictions == labels).float().mean()\n",
    "        total_train_accuracy += accuracy.item()\n",
    "        \n",
    "        loss.backward()\n",
    "        \n",
    "        optimizer.step()\n",
    "        scheduler.step()\n",
    "\n",
    "    # Validation loop\n",
    "    model.eval()\n",
    "    total_val_loss = 0\n",
    "    total_val_accuracy = 0\n",
    "    with torch.no_grad():\n",
    "        for batch in val_loader:\n",
    "            input_ids = batch[0].to(device)\n",
    "            attention_mask = batch[2].to(device)\n",
    "            labels = batch[3].to(device).float()  # Convert labels to float for regression\n",
    "            labels = labels / 4\n",
    "            \n",
    "            outputs = model(input_ids=input_ids, attention_mask=attention_mask).squeeze()\n",
    "            \n",
    "            loss = criterion(outputs, labels)  # Use the regression loss function\n",
    "            total_val_loss += loss.item()\n",
    "            \n",
    "            # Calculate accuracy\n",
    "            predictions = torch.round(outputs * 4) / 4  # Round the scaled predictions to the nearest quarter\n",
    "            accuracy = (predictions == labels).float().mean()\n",
    "            total_val_accuracy += accuracy.item()\n",
    "            \n",
    "    # Calculate average loss and accuracy\n",
    "    avg_train_loss = total_train_loss / len(train_loader)\n",
    "    avg_val_loss = total_val_loss / len(val_loader)\n",
    "    avg_train_accuracy = total_train_accuracy / len(train_loader)\n",
    "    avg_val_accuracy = total_val_accuracy / len(val_loader)\n",
    "    \n",
    "    print(f'Training Loss: {avg_train_loss}, Training Accuracy: {avg_train_accuracy}')\n",
    "    print(f'Validation Loss: {avg_val_loss}, Validation Accuracy: {avg_val_accuracy}')"
   ]
  },
  {
   "cell_type": "code",
   "execution_count": null,
   "id": "c29bee06-dd06-4ce8-bd27-a5e4f1413dd2",
   "metadata": {
    "tags": []
   },
   "outputs": [],
   "source": [
    "outs1()"
   ]
  },
  {
   "cell_type": "code",
   "execution_count": 19,
   "id": "1af45696-8207-4122-bbde-ab0273cae2d8",
   "metadata": {
    "tags": []
   },
   "outputs": [],
   "source": [
    "%%capture outs2\n",
    "model.eval()\n",
    "total_test_loss = 0\n",
    "total_test_accuracy = 0\n",
    "progress_bar_test = tqdm(test_loader, desc='Testing')\n",
    "\n",
    "# Lists to store predictions and true labels\n",
    "all_predictions = []\n",
    "all_labels = []\n",
    "all_raw_predictions = []\n",
    "\n",
    "with torch.no_grad():\n",
    "    for batch in progress_bar_test:\n",
    "        input_ids = batch[0].to(device)\n",
    "        token_type_ids = batch[1].to(device)\n",
    "        attention_mask = batch[2].to(device)\n",
    "        labels = batch[3].to(device).float()  # Convert labels to float for regression\n",
    "        labels = labels / 4\n",
    "        outputs = model(input_ids=input_ids, attention_mask=attention_mask).squeeze()\n",
    "        \n",
    "        loss = criterion(outputs, labels)  # Use the regression loss function\n",
    "        total_test_loss += loss.item()\n",
    "        \n",
    "        # Calculate accuracy\n",
    "        predictions = torch.round(outputs * 4) / 4  # Round the scaled predictions to the nearest quarter\n",
    "        accuracy = (predictions == labels).float().mean()\n",
    "        total_test_accuracy += accuracy.item()\n",
    "        \n",
    "        # Store predictions and true labels\n",
    "        all_predictions.extend(predictions.cpu().numpy())\n",
    "        all_raw_predictions.extend(outputs.cpu().numpy())\n",
    "        all_labels.extend(labels.cpu().numpy())\n",
    "        \n",
    "        progress_bar_test.set_postfix({'Testing Loss': total_test_loss / len(progress_bar_test),\n",
    "                                       'Testing Accuracy': total_test_accuracy / len(progress_bar_test)})\n",
    "    \n",
    "# Calculate average loss and accuracy\n",
    "avg_test_loss = total_test_loss / len(test_loader)\n",
    "avg_test_accuracy = total_test_accuracy / len(test_loader)\n",
    "\n",
    "# Print the average testing loss and accuracy\n",
    "print(f'Average Testing Loss: {avg_test_loss:.4f}, Average Testing Accuracy: {avg_test_accuracy:.4f}')"
   ]
  },
  {
   "cell_type": "code",
   "execution_count": 24,
   "id": "1d6b76e3-e9e5-48a1-b174-91a7c87b4b63",
   "metadata": {
    "tags": []
   },
   "outputs": [
    {
     "name": "stdout",
     "output_type": "stream",
     "text": [
      "Average Testing Loss: 0.0254, Average Testing Accuracy: 0.6254\n"
     ]
    },
    {
     "name": "stderr",
     "output_type": "stream",
     "text": [
      "Testing: 100%|##########| 157/157 [01:09<00:00,  2.25it/s, Testing Loss=0.0254, Testing Accuracy=0.625]  \n"
     ]
    }
   ],
   "source": [
    "outs2()"
   ]
  },
  {
   "cell_type": "code",
   "execution_count": 14,
   "id": "1f0fe4db-eddf-477b-ac70-2cb235f46db9",
   "metadata": {
    "tags": []
   },
   "outputs": [],
   "source": [
    "# Save the model and its parameters\n",
    "torch.save(model.state_dict(), 'model_11.pth')"
   ]
  },
  {
   "cell_type": "code",
   "execution_count": 15,
   "id": "8b304fb8-ec56-43c1-9ea1-7858afad1357",
   "metadata": {
    "tags": []
   },
   "outputs": [
    {
     "name": "stdout",
     "output_type": "stream",
     "text": [
      "Epoch 1/4\n",
      "Training Loss: 0.03446603013292167, Training Accuracy: 0.5513087752870421\n",
      "Validation Loss: 0.02833527836528625, Validation Accuracy: 0.5962009803921569\n",
      "Epoch 2/4\n",
      "Training Loss: 0.027248807966876155, Training Accuracy: 0.6035231000546747\n",
      "Validation Loss: 0.02779806455752502, Validation Accuracy: 0.6049325980392157\n",
      "Epoch 3/4\n",
      "Training Loss: 0.02401820649767163, Training Accuracy: 0.6270844723892838\n",
      "Validation Loss: 0.025581075376191854, Validation Accuracy: 0.6352634803921569\n",
      "Epoch 4/4\n",
      "Training Loss: 0.02219760639770206, Training Accuracy: 0.6400697102241663\n",
      "Validation Loss: 0.025147881491255818, Validation Accuracy: 0.6367953431372549\n"
     ]
    }
   ],
   "source": [
    "outs1()"
   ]
  },
  {
   "cell_type": "code",
   "execution_count": 16,
   "id": "edca9186-4f82-4ddd-b9b0-37d1309bb559",
   "metadata": {
    "tags": []
   },
   "outputs": [
    {
     "name": "stdout",
     "output_type": "stream",
     "text": [
      "Average Testing Loss: 0.0254, Average Testing Accuracy: 0.6254\n"
     ]
    },
    {
     "name": "stderr",
     "output_type": "stream",
     "text": [
      "Testing: 100%|##########| 157/157 [01:10<00:00,  2.22it/s, Testing Loss=0.0254, Testing Accuracy=0.625]  \n"
     ]
    }
   ],
   "source": [
    "outs2()"
   ]
  },
  {
   "cell_type": "code",
   "execution_count": 36,
   "id": "314b18d9-68ce-4da0-b63c-2c2313c27c71",
   "metadata": {
    "tags": []
   },
   "outputs": [
    {
     "data": {
      "image/png": "[encoded data removed]",
      "text/plain": [
       "<Figure size 1000x800 with 2 Axes>"
      ]
     },
     "metadata": {},
     "output_type": "display_data"
    }
   ],
   "source": [
    "import numpy as np\n",
    "import seaborn as sns\n",
    "import matplotlib.pyplot as plt\n",
    "from sklearn.metrics import confusion_matrix\n",
    "\n",
    "# Original labels and predictions\n",
    "# all_labels and all_predictions should be defined elsewhere in your code\n",
    "\n",
    "# Define the mapping\n",
    "mapping = {0: 0, 0.25: 1, 0.5: 2, 0.75: 3, 1: 4}\n",
    "\n",
    "# Function to map values to integers\n",
    "def map_to_int(values, mapping):\n",
    "    return np.array([mapping[v] for v in values])\n",
    "\n",
    "# Map the labels and predictions\n",
    "all_labels_mapped = map_to_int(all_labels, mapping)\n",
    "all_predictions_mapped = map_to_int(all_predictions, mapping)\n",
    "\n",
    "# Calculate the confusion matrix\n",
    "cm = confusion_matrix(all_labels_mapped, all_predictions_mapped)\n",
    "\n",
    "# Define class names for the heatmap\n",
    "class_names = ['0', '0.25', '0.5', '0.75', '1']\n",
    "\n",
    "# Create a heatmap\n",
    "plt.figure(figsize=(10, 8))\n",
    "sns.heatmap(cm, annot=True, fmt='d', cmap='Blues', xticklabels=class_names, yticklabels=class_names)\n",
    "plt.xlabel('Predicted Labels')\n",
    "plt.ylabel('True Labels')\n",
    "plt.title('Confusion Matrix')\n",
    "plt.show()"
   ]
  },
  {
   "cell_type": "code",
   "execution_count": 35,
   "id": "aaf81dde-8ee8-4b9f-86e7-2b208bf75cc0",
   "metadata": {
    "tags": []
   },
   "outputs": [
    {
     "name": "stderr",
     "output_type": "stream",
     "text": [
      "Optimization Progress:   0%|                                          | 36/50000 [01:20<31:02:13,  2.24s/it]"
     ]
    },
    {
     "name": "stdout",
     "output_type": "stream",
     "text": [
      "Best Accuracy: 0.6284 with thresholds: [0.12495491 0.38662843 0.63670718 0.82971599]\n"
     ]
    },
    {
     "name": "stderr",
     "output_type": "stream",
     "text": [
      "\n"
     ]
    }
   ],
   "source": [
    "from scipy.optimize import differential_evolution\n",
    "import numpy as np\n",
    "from sklearn.metrics import accuracy_score\n",
    "\n",
    "# Function to calculate accuracy for given thresholds\n",
    "def calculate_accuracy(predictions, labels, thresholds):\n",
    "    class_preds = np.digitize(predictions, thresholds)\n",
    "    return accuracy_score(labels, class_preds)\n",
    "\n",
    "# Convert back to original scale\n",
    "labels = np.array(all_labels) * 4\n",
    "\n",
    "# Define the objective function for optimization\n",
    "def objective(thresholds):\n",
    "    thresholds = np.sort(thresholds)  # Ensure thresholds are sorted\n",
    "    return -calculate_accuracy(all_raw_predictions, labels, thresholds)  # We minimize, so negate accuracy\n",
    "\n",
    "# Define bounds for the thresholds (three thresholds between 0 and 1)\n",
    "bounds = [(0, 1), (0, 1), (0, 1), (0,1)]\n",
    "\n",
    "class TqdmProgress:\n",
    "    def __init__(self, max_iter):\n",
    "        self.progress_bar = tqdm(total=max_iter, desc=\"Optimization Progress\", position=0, leave=True)\n",
    "        self.iteration = 0\n",
    "\n",
    "    def __call__(self, xk, convergence):\n",
    "        self.iteration += 1\n",
    "        self.progress_bar.update(1)\n",
    "\n",
    "    def close(self):\n",
    "        self.progress_bar.close()\n",
    "\n",
    "# Initialize the progress bar\n",
    "progress = TqdmProgress(50000)\n",
    "\n",
    "# Perform differential evolution to find the optimal thresholds\n",
    "result = differential_evolution(\n",
    "    objective, \n",
    "    bounds, \n",
    "    maxiter=50000,      \n",
    "    popsize=500,          \n",
    "    mutation=(0.5, 1),     \n",
    "    recombination=0.5,     \n",
    "    callback=progress       \n",
    ")\n",
    "\n",
    "# Close the progress bar\n",
    "progress.close()\n",
    "# Get the best thresholds and accuracy\n",
    "best_thresholds = np.sort(result.x)\n",
    "best_accuracy = -result.fun\n",
    "\n",
    "print(f'Best Accuracy: {best_accuracy:.4f} with thresholds: {best_thresholds}')"
   ]
  },
  {
   "cell_type": "code",
   "execution_count": null,
   "id": "e5ca9b3f-e236-402d-94b7-0d3dd33c79b6",
   "metadata": {},
   "outputs": [],
   "source": []
  }
 ],
 "metadata": {
  "kernelspec": {
   "display_name": "Python 3 (Local)",
   "language": "python",
   "name": "python3"
  },
  "language_info": {
   "codemirror_mode": {
    "name": "ipython",
    "version": 3
   },
   "file_extension": ".py",
   "mimetype": "text/x-python",
   "name": "python",
   "nbconvert_exporter": "python",
   "pygments_lexer": "ipython3",
   "version": "3.10.14"
  }
 },
 "nbformat": 4,
 "nbformat_minor": 5
}
