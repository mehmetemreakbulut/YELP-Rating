{
 "cells": [
  {
   "cell_type": "markdown",
   "id": "9f3b224d-a1e1-460e-922a-fb6f41a4c0b1",
   "metadata": {},
   "source": [
    "Increased the classification layers to three, to increase the model's complexity to handle more complex relations. Not much of a difference is observed."
   ]
  },
  {
   "cell_type": "code",
   "execution_count": 1,
   "id": "8833dfbe-6b4b-408c-aa70-ba81844bad43",
   "metadata": {
    "tags": []
   },
   "outputs": [],
   "source": [
    "import torch\n",
    "from torch.utils.data import Dataset, DataLoader\n",
    "from transformers import BertTokenizer\n",
    "from tqdm import tqdm\n",
    "from sklearn.model_selection import train_test_split\n",
    "\n",
    "# Define the dataset class\n",
    "class YelpDataset(Dataset):\n",
    "    def __init__(self, input_ids, token_type_ids, attention_mask, labels):\n",
    "        self.input_ids = input_ids\n",
    "        self.token_type_ids = token_type_ids\n",
    "        self.attention_mask = attention_mask\n",
    "        self.labels = labels\n",
    "\n",
    "    def __len__(self):\n",
    "        return len(self.labels)\n",
    "\n",
    "    def __getitem__(self, idx):\n",
    "        return {\n",
    "            'input_ids': self.input_ids[idx],\n",
    "            'token_type_ids': self.token_type_ids[idx],\n",
    "            'attention_mask': self.attention_mask[idx],\n",
    "            'labels': self.labels[idx]\n",
    "        }\n"
   ]
  },
  {
   "cell_type": "code",
   "execution_count": 2,
   "id": "e4c986f1-289a-466a-bfb3-bdd56bb6b190",
   "metadata": {
    "tags": []
   },
   "outputs": [],
   "source": [
    "# Load each part of the dataset\n",
    "data_parts = []\n",
    "for i in range(1, 6):\n",
    "    part_data = torch.load(f'./YELP-Rating/prep2_yelp_data_part_{i}.pt')\n",
    "    data_parts.append(part_data)"
   ]
  },
  {
   "cell_type": "code",
   "execution_count": 3,
   "id": "e52cb1b8-418f-4ef9-a30f-073ad47f1bac",
   "metadata": {
    "tags": []
   },
   "outputs": [],
   "source": [
    "from torch.utils.data import TensorDataset, DataLoader\n",
    "# Combine data_parts into a single TensorDataset\n",
    "full_dataset = TensorDataset(\n",
    "    torch.cat([part['input_ids'] for part in data_parts]),\n",
    "    torch.cat([part['token_type_ids'] for part in data_parts]),\n",
    "    torch.cat([part['attention_mask'] for part in data_parts]),\n",
    "    torch.cat([part['labels'] for part in data_parts])\n",
    ")"
   ]
  },
  {
   "cell_type": "code",
   "execution_count": 4,
   "id": "1675667a-fec9-478b-8854-815c4d4972a7",
   "metadata": {
    "tags": []
   },
   "outputs": [],
   "source": [
    "from sklearn.model_selection import StratifiedShuffleSplit\n",
    "from torch.utils.data import Subset\n",
    "labels = full_dataset.tensors[-1].numpy()\n",
    "\n",
    "# Create a StratifiedShuffleSplit object\n",
    "sss = StratifiedShuffleSplit(n_splits=1, test_size=0.9, random_state=42)\n",
    "\n",
    "# Get the indices for the subset\n",
    "subset_indices, _ = next(sss.split(torch.zeros(len(labels)), labels))\n",
    "\n",
    "# Create a Subset of the original dataset using the subset indices\n",
    "subset_dataset = Subset(full_dataset, subset_indices)\n",
    "\n",
    "# Convert the Subset to a TensorDataset\n",
    "subset_tensors = [tensor[subset_indices] for tensor in subset_dataset.dataset.tensors]\n",
    "del full_dataset\n",
    "full_dataset = TensorDataset(*subset_tensors)"
   ]
  },
  {
   "cell_type": "code",
   "execution_count": 5,
   "id": "57564d8b-263f-4aa9-81c2-bfdee8a3f95e",
   "metadata": {
    "tags": []
   },
   "outputs": [],
   "source": [
    "# Load each part of the dataset\n",
    "data_parts = []\n",
    "for i in range(1, 6):\n",
    "    part_data = torch.load(f'./YELP-Rating/test_prep2_yelp_data_part_{i}.pt')\n",
    "    data_parts.append(part_data)"
   ]
  },
  {
   "cell_type": "code",
   "execution_count": 6,
   "id": "0f805788-132c-4215-a5e0-aa4e43869cdc",
   "metadata": {
    "tags": []
   },
   "outputs": [],
   "source": [
    "from torch.utils.data import TensorDataset, DataLoader\n",
    "# Combine data_parts into a single TensorDataset\n",
    "test_dataset = TensorDataset(\n",
    "    torch.cat([part['input_ids'] for part in data_parts]),\n",
    "    torch.cat([part['token_type_ids'] for part in data_parts]),\n",
    "    torch.cat([part['attention_mask'] for part in data_parts]),\n",
    "    torch.cat([part['labels'] for part in data_parts])\n",
    ")"
   ]
  },
  {
   "cell_type": "code",
   "execution_count": 7,
   "id": "aad864ec-8565-4ebc-917d-beccb46d97c7",
   "metadata": {
    "tags": []
   },
   "outputs": [],
   "source": [
    "labels = test_dataset.tensors[-1].numpy()\n",
    "\n",
    "# Create a StratifiedShuffleSplit object\n",
    "sss = StratifiedShuffleSplit(n_splits=1, test_size=0.9, random_state=42)\n",
    "\n",
    "# Get the indices for the subset\n",
    "subset_indices, _ = next(sss.split(torch.zeros(len(labels)), labels))\n",
    "\n",
    "# Create a Subset using the selected indices\n",
    "subset_dataset = Subset(test_dataset, subset_indices)\n",
    "# Convert the Subset to a TensorDataset\n",
    "subset_tensors = [tensor[subset_indices] for tensor in subset_dataset.dataset.tensors]\n",
    "del test_dataset\n",
    "test_dataset = TensorDataset(*subset_tensors)"
   ]
  },
  {
   "cell_type": "code",
   "execution_count": 8,
   "id": "b1db4a5d-8f22-472b-afc4-5b9b156adfa7",
   "metadata": {
    "tags": []
   },
   "outputs": [],
   "source": [
    "del data_parts"
   ]
  },
  {
   "cell_type": "code",
   "execution_count": 9,
   "id": "05a0f854-383a-4209-8348-59babde6f27a",
   "metadata": {
    "tags": []
   },
   "outputs": [],
   "source": [
    "#subset_indices = range(500)  # Example indices for the subset\n",
    "\n",
    "#full_dataset = torch.utils.data.Subset(full_dataset, subset_indices)"
   ]
  },
  {
   "cell_type": "code",
   "execution_count": 10,
   "id": "ff31c52e-e7cd-43c9-9adf-683d07e95108",
   "metadata": {
    "tags": []
   },
   "outputs": [],
   "source": [
    "import torch\n",
    "from sklearn.model_selection import train_test_split\n",
    "\n",
    "\n",
    "# Use train_test_split to split the dataset into training, validation, and test sets\n",
    "train_size = int(0.9 * len(full_dataset))\n",
    "val_size = (len(full_dataset) - train_size)\n",
    "\n",
    "train_dataset, val_dataset = torch.utils.data.random_split(\n",
    "    full_dataset, [train_size, val_size], generator=torch.Generator().manual_seed(42)\n",
    ")\n",
    "\n",
    "# Define batch size\n",
    "batch_size = 32\n",
    "\n",
    "# Create data loaders\n",
    "train_loader = DataLoader(train_dataset, batch_size=batch_size, shuffle=True, num_workers=8)\n",
    "val_loader = DataLoader(val_dataset, batch_size=batch_size, shuffle=False, num_workers=8)\n",
    "test_loader = DataLoader(test_dataset, batch_size=batch_size, shuffle=False, num_workers=8)"
   ]
  },
  {
   "cell_type": "code",
   "execution_count": 11,
   "id": "cf1366fa-5854-4f1c-b277-775a78eb8196",
   "metadata": {
    "tags": []
   },
   "outputs": [
    {
     "name": "stderr",
     "output_type": "stream",
     "text": [
      "/opt/conda/lib/python3.10/site-packages/huggingface_hub/file_download.py:1132: FutureWarning: `resume_download` is deprecated and will be removed in version 1.0.0. Downloads always resume when possible. If you want to force a new download, use `force_download=True`.\n",
      "  warnings.warn(\n",
      "Some weights of BertForSequenceClassification were not initialized from the model checkpoint at bert-base-uncased and are newly initialized: ['classifier.bias', 'classifier.weight']\n",
      "You should probably TRAIN this model on a down-stream task to be able to use it for predictions and inference.\n",
      "/opt/conda/lib/python3.10/site-packages/transformers/optimization.py:521: FutureWarning: This implementation of AdamW is deprecated and will be removed in a future version. Use the PyTorch implementation torch.optim.AdamW instead, or set `no_deprecation_warning=True` to disable this warning\n",
      "  warnings.warn(\n"
     ]
    },
    {
     "data": {
      "text/plain": [
       "BertForSequenceClassification(\n",
       "  (bert): BertModel(\n",
       "    (embeddings): BertEmbeddings(\n",
       "      (word_embeddings): Embedding(30522, 768, padding_idx=0)\n",
       "      (position_embeddings): Embedding(512, 768)\n",
       "      (token_type_embeddings): Embedding(2, 768)\n",
       "      (LayerNorm): LayerNorm((768,), eps=1e-12, elementwise_affine=True)\n",
       "      (dropout): Dropout(p=0.1, inplace=False)\n",
       "    )\n",
       "    (encoder): BertEncoder(\n",
       "      (layer): ModuleList(\n",
       "        (0-11): 12 x BertLayer(\n",
       "          (attention): BertAttention(\n",
       "            (self): BertSelfAttention(\n",
       "              (query): Linear(in_features=768, out_features=768, bias=True)\n",
       "              (key): Linear(in_features=768, out_features=768, bias=True)\n",
       "              (value): Linear(in_features=768, out_features=768, bias=True)\n",
       "              (dropout): Dropout(p=0.1, inplace=False)\n",
       "            )\n",
       "            (output): BertSelfOutput(\n",
       "              (dense): Linear(in_features=768, out_features=768, bias=True)\n",
       "              (LayerNorm): LayerNorm((768,), eps=1e-12, elementwise_affine=True)\n",
       "              (dropout): Dropout(p=0.1, inplace=False)\n",
       "            )\n",
       "          )\n",
       "          (intermediate): BertIntermediate(\n",
       "            (dense): Linear(in_features=768, out_features=3072, bias=True)\n",
       "            (intermediate_act_fn): GELUActivation()\n",
       "          )\n",
       "          (output): BertOutput(\n",
       "            (dense): Linear(in_features=3072, out_features=768, bias=True)\n",
       "            (LayerNorm): LayerNorm((768,), eps=1e-12, elementwise_affine=True)\n",
       "            (dropout): Dropout(p=0.1, inplace=False)\n",
       "          )\n",
       "        )\n",
       "      )\n",
       "    )\n",
       "    (pooler): BertPooler(\n",
       "      (dense): Linear(in_features=768, out_features=768, bias=True)\n",
       "      (activation): Tanh()\n",
       "    )\n",
       "  )\n",
       "  (dropout): Dropout(p=0.1, inplace=False)\n",
       "  (classifier): Sequential(\n",
       "    (0): Linear(in_features=768, out_features=256, bias=True)\n",
       "    (1): Tanh()\n",
       "    (2): Dropout(p=0.1, inplace=False)\n",
       "    (3): Linear(in_features=256, out_features=64, bias=True)\n",
       "    (4): Tanh()\n",
       "    (5): Dropout(p=0.1, inplace=False)\n",
       "    (6): Linear(in_features=64, out_features=5, bias=True)\n",
       "  )\n",
       ")"
      ]
     },
     "execution_count": 11,
     "metadata": {},
     "output_type": "execute_result"
    }
   ],
   "source": [
    "from transformers import BertTokenizer, BertForSequenceClassification, AdamW, get_linear_schedule_with_warmup\n",
    "from torch.utils.data import TensorDataset, DataLoader\n",
    "from transformers import BertForSequenceClassification, BertConfig\n",
    "import torch.nn as nn\n",
    "import torch.nn.functional as F\n",
    "\n",
    "# Load pre-trained BERT model\n",
    "config = BertConfig.from_pretrained(\"bert-base-uncased\")\n",
    "model = BertForSequenceClassification.from_pretrained(\"bert-base-uncased\", config=config)\n",
    "\n",
    "# Define the new classifier layers\n",
    "classifier = nn.Sequential(\n",
    "    nn.Linear(config.hidden_size, 256),\n",
    "    nn.Tanh(),\n",
    "    nn.Dropout(config.hidden_dropout_prob),\n",
    "    nn.Linear(256, 64),\n",
    "    nn.Tanh(),\n",
    "    nn.Dropout(config.hidden_dropout_prob),\n",
    "    nn.Linear(64, 5)\n",
    ")\n",
    "\n",
    "# Replace the classifier of the pre-trained model\n",
    "model.classifier = classifier\n",
    "\n",
    "# Update the number of labels in the config\n",
    "model.config.num_labels = 5\n",
    "model.num_labels=5\n",
    "# Fine-tune BERT\n",
    "# Freeze BERT parameters\n",
    "for param in model.bert.parameters():\n",
    "    param.requires_grad = False\n",
    "for param in model.classifier.parameters():\n",
    "    param.requires_grad = True\n",
    "\n",
    "# Specify hyperparameters\n",
    "epochs = 4\n",
    "learning_rate = 2e-4\n",
    "warmup_steps = 3\n",
    "\n",
    "# Set up the optimizer and learning rate scheduler\n",
    "optimizer = AdamW(model.parameters(), lr=learning_rate)\n",
    "total_steps = len(train_loader) * epochs\n",
    "scheduler = get_linear_schedule_with_warmup(optimizer, num_warmup_steps=warmup_steps, num_training_steps=total_steps)\n",
    "\n",
    "# Train the model\n",
    "device = torch.device(\"cuda\" if torch.cuda.is_available() else \"cpu\")\n",
    "model.to(device)"
   ]
  },
  {
   "cell_type": "code",
   "execution_count": null,
   "id": "002df0eb-71f6-4365-be78-b8e2d5d04cef",
   "metadata": {
    "tags": []
   },
   "outputs": [],
   "source": [
    "%%capture outs1\n",
    "# Training loop\n",
    "for epoch in range(epochs):\n",
    "    # Training loop with tqdm\n",
    "    model.train()\n",
    "    total_train_loss = 0\n",
    "    total_train_accuracy = 0\n",
    "    print(f'Epoch {epoch+1}/{epochs}')\n",
    "    #progress_bar_train = tqdm(train_loader, desc=f'Epoch {epoch+1}/{epochs} (Training)')\n",
    "    for batch in train_loader:\n",
    "    #for batch in progress_bar_train:\n",
    "        input_ids = batch[0].to(device)\n",
    "        token_type_ids = batch[1].to(device)\n",
    "        attention_mask = batch[2].to(device)\n",
    "        labels = batch[3].to(device)\n",
    "        \n",
    "        model.zero_grad()\n",
    "        \n",
    "        outputs = model(input_ids=input_ids, token_type_ids=token_type_ids, attention_mask=attention_mask, labels=labels)\n",
    "        \n",
    "        loss = outputs.loss\n",
    "        total_train_loss += loss.item()\n",
    "        \n",
    "        # Calculate accuracy\n",
    "        logits = outputs.logits\n",
    "        predictions = torch.argmax(logits, dim=-1)\n",
    "        accuracy = (predictions == labels).float().mean()\n",
    "        total_train_accuracy += accuracy.item()\n",
    "        \n",
    "        loss.backward()\n",
    "        \n",
    "        optimizer.step()\n",
    "        scheduler.step()\n",
    "        \n",
    "        #progress_bar_train.set_postfix({'Training Loss': total_train_loss / len(progress_bar_train), 'Training Accuracy': total_train_accuracy / len(progress_bar_train)})\n",
    "\n",
    "    # Validation loop with tqdm\n",
    "    model.eval()\n",
    "    total_val_loss = 0\n",
    "    total_val_accuracy = 0\n",
    "    #print(f'Epoch {epoch+1}/{epochs} (Validation)')\n",
    "    #progress_bar_val = tqdm(val_loader, desc=f'Epoch {epoch+1}/{epochs} (Validation)')\n",
    "    with torch.no_grad():\n",
    "        for batch in val_loader:\n",
    "        #for batch in progress_bar_val:\n",
    "            input_ids = batch[0].to(device)\n",
    "            token_type_ids = batch[1].to(device)\n",
    "            attention_mask = batch[2].to(device)\n",
    "            labels = batch[3].to(device)\n",
    "\n",
    "            outputs = model(input_ids=input_ids, token_type_ids=token_type_ids, attention_mask=attention_mask, labels=labels)\n",
    "\n",
    "            loss = outputs.loss\n",
    "            total_val_loss += loss.item()\n",
    "            \n",
    "            # Calculate accuracy\n",
    "            logits = outputs.logits\n",
    "            predictions = torch.argmax(logits, dim=-1)\n",
    "            accuracy = (predictions == labels).float().mean()\n",
    "            total_val_accuracy += accuracy.item()\n",
    "            \n",
    "            #progress_bar_val.set_postfix({'Validation Loss': total_val_loss / len(progress_bar_val), 'Validation Accuracy': total_val_accuracy / len(progress_bar_val)})\n",
    "            \n",
    "    # Calculate average loss and accuracy\n",
    "    avg_train_loss = total_train_loss / len(train_loader)\n",
    "    avg_val_loss = total_val_loss / len(val_loader)\n",
    "    avg_train_accuracy = total_train_accuracy / len(train_loader)\n",
    "    \n",
    "    print(f'Training Loss: {total_train_loss / len(train_loader)}, Training Accuracy: {total_train_accuracy / len(train_loader)}')\n",
    "    print(f'Validation Loss: {total_val_loss / len(val_loader)}, Validation Accuracy: {total_val_accuracy / len(val_loader)}')"
   ]
  },
  {
   "cell_type": "code",
   "execution_count": null,
   "id": "c29bee06-dd06-4ce8-bd27-a5e4f1413dd2",
   "metadata": {
    "tags": []
   },
   "outputs": [],
   "source": [
    "outs1()"
   ]
  },
  {
   "cell_type": "code",
   "execution_count": null,
   "id": "1af45696-8207-4122-bbde-ab0273cae2d8",
   "metadata": {
    "tags": []
   },
   "outputs": [],
   "source": [
    "%%capture outs2\n",
    "model.eval()\n",
    "total_test_loss = 0\n",
    "total_test_accuracy = 0\n",
    "progress_bar_test = tqdm(test_loader, desc=f'Epoch {epoch+1}/{epochs} (Testing)')\n",
    "\n",
    "# Lists to store predictions and true labels\n",
    "all_predictions = []\n",
    "all_labels = []\n",
    "\n",
    "with torch.no_grad():\n",
    "    for batch in progress_bar_test:\n",
    "        input_ids = batch[0].to(device)\n",
    "        token_type_ids = batch[1].to(device)\n",
    "        attention_mask = batch[2].to(device)\n",
    "        labels = batch[3].to(device)\n",
    "\n",
    "        outputs = model(input_ids=input_ids, token_type_ids=token_type_ids, attention_mask=attention_mask, labels=labels)\n",
    "\n",
    "        loss = outputs.loss\n",
    "        total_test_loss += loss.item()\n",
    "        \n",
    "        # Calculate accuracy\n",
    "        logits = outputs.logits\n",
    "        predictions = torch.argmax(logits, dim=-1)\n",
    "        accuracy = (predictions == labels).float().mean()\n",
    "        total_test_accuracy += accuracy.item()\n",
    "        \n",
    "        # Store predictions and true labels\n",
    "        all_predictions.extend(predictions.cpu().numpy())\n",
    "        all_labels.extend(labels.cpu().numpy())\n",
    "        \n",
    "        progress_bar_test.set_postfix({'Testing Loss': total_test_loss / len(progress_bar_test),\n",
    "                                       'Testing Accuracy': total_test_accuracy / len(progress_bar_test)})\n",
    "    \n",
    "# Calculate average loss and accuracy\n",
    "avg_test_loss = total_test_loss / len(test_loader)\n",
    "avg_test_accuracy = total_test_accuracy / len(test_loader)\n",
    "\n",
    "# Print the average testing loss and accuracy\n",
    "print(f'Average Testing Loss: {avg_test_loss:.4f}, Average Testing Accuracy: {avg_test_accuracy:.4f}')"
   ]
  },
  {
   "cell_type": "code",
   "execution_count": null,
   "id": "1d6b76e3-e9e5-48a1-b174-91a7c87b4b63",
   "metadata": {
    "tags": []
   },
   "outputs": [],
   "source": [
    "outs2()"
   ]
  },
  {
   "cell_type": "code",
   "execution_count": null,
   "id": "1f0fe4db-eddf-477b-ac70-2cb235f46db9",
   "metadata": {
    "tags": []
   },
   "outputs": [],
   "source": [
    "# Save the model and its parameters\n",
    "torch.save(model.state_dict(), 'model_7.pth')"
   ]
  },
  {
   "cell_type": "code",
   "execution_count": 14,
   "id": "8b304fb8-ec56-43c1-9ea1-7858afad1357",
   "metadata": {
    "tags": []
   },
   "outputs": [
    {
     "name": "stdout",
     "output_type": "stream",
     "text": [
      "Epoch 1/4\n",
      "Training Loss: 1.368411942184004, Training Accuracy: 0.3913340623291416\n",
      "Validation Loss: 1.2072524469272763, Validation Accuracy: 0.4777879901960784\n",
      "Epoch 2/4\n",
      "Training Loss: 1.2752008379450779, Training Accuracy: 0.4421473482777474\n",
      "Validation Loss: 1.1702535342352063, Validation Accuracy: 0.48483455882352944\n",
      "Epoch 3/4\n",
      "Training Loss: 1.2606634629300673, Training Accuracy: 0.44800779114270095\n",
      "Validation Loss: 1.1569969595647325, Validation Accuracy: 0.49984681372549017\n",
      "Epoch 4/4\n",
      "Training Loss: 1.2472437312526088, Training Accuracy: 0.4557989338436304\n",
      "Validation Loss: 1.1497672223577313, Validation Accuracy: 0.49846813725490197\n"
     ]
    }
   ],
   "source": [
    "outs1()"
   ]
  },
  {
   "cell_type": "code",
   "execution_count": 15,
   "id": "edca9186-4f82-4ddd-b9b0-37d1309bb559",
   "metadata": {
    "tags": []
   },
   "outputs": [
    {
     "name": "stdout",
     "output_type": "stream",
     "text": [
      "Average Testing Loss: 1.1688, Average Testing Accuracy: 0.4867\n"
     ]
    },
    {
     "name": "stderr",
     "output_type": "stream",
     "text": [
      "Epoch 4/4 (Testing): 100%|##########| 157/157 [01:31<00:00,  1.72it/s, Testing Loss=1.17, Testing Accuracy=0.487]   \n"
     ]
    }
   ],
   "source": [
    "outs2()"
   ]
  },
  {
   "cell_type": "code",
   "execution_count": 16,
   "id": "314b18d9-68ce-4da0-b63c-2c2313c27c71",
   "metadata": {
    "tags": []
   },
   "outputs": [
    {
     "data": {
      "image/png": "[encoded data removed]",
      "text/plain": [
       "<Figure size 1000x800 with 2 Axes>"
      ]
     },
     "metadata": {},
     "output_type": "display_data"
    }
   ],
   "source": [
    "import seaborn as sns\n",
    "import matplotlib.pyplot as plt\n",
    "from sklearn.metrics import confusion_matrix\n",
    "\n",
    "# Calculate the confusion matrix\n",
    "cm = confusion_matrix(all_labels, all_predictions)\n",
    "\n",
    "# Create a heatmap\n",
    "plt.figure(figsize=(10, 8))\n",
    "sns.heatmap(cm, annot=True, fmt='d', cmap='Blues')\n",
    "plt.xlabel('Predicted Labels')\n",
    "plt.ylabel('True Labels')\n",
    "plt.title('Confusion Matrix')\n",
    "plt.show()"
   ]
  },
  {
   "cell_type": "code",
   "execution_count": null,
   "id": "aaf81dde-8ee8-4b9f-86e7-2b208bf75cc0",
   "metadata": {},
   "outputs": [],
   "source": []
  }
 ],
 "metadata": {
  "kernelspec": {
   "display_name": "Python 3 (Local)",
   "language": "python",
   "name": "python3"
  },
  "language_info": {
   "codemirror_mode": {
    "name": "ipython",
    "version": 3
   },
   "file_extension": ".py",
   "mimetype": "text/x-python",
   "name": "python",
   "nbconvert_exporter": "python",
   "pygments_lexer": "ipython3",
   "version": "3.10.14"
  }
 },
 "nbformat": 4,
 "nbformat_minor": 5
}
