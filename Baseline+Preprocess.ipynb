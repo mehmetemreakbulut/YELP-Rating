{
 "cells": [
  {
   "cell_type": "markdown",
   "id": "88509750-841e-4939-85c3-e6d7110c5cb6",
   "metadata": {
    "tags": []
   },
   "source": [
    "Upon the baseline this notebook explores if a preprocessing scheme with lemmatization leads to better predictions. The final accuracy drops to %46 from %50 due to the information loss in the lemmatization process, as expected."
   ]
  },
  {
   "cell_type": "code",
   "execution_count": 1,
   "id": "8833dfbe-6b4b-408c-aa70-ba81844bad43",
   "metadata": {
    "tags": []
   },
   "outputs": [],
   "source": [
    "import torch\n",
    "from torch.utils.data import Dataset, DataLoader\n",
    "from transformers import BertTokenizer\n",
    "from tqdm import tqdm\n",
    "from sklearn.model_selection import train_test_split\n",
    "\n",
    "# Define the dataset class\n",
    "class YelpDataset(Dataset):\n",
    "    def __init__(self, input_ids, token_type_ids, attention_mask, labels):\n",
    "        self.input_ids = input_ids\n",
    "        self.token_type_ids = token_type_ids\n",
    "        self.attention_mask = attention_mask\n",
    "        self.labels = labels\n",
    "\n",
    "    def __len__(self):\n",
    "        return len(self.labels)\n",
    "\n",
    "    def __getitem__(self, idx):\n",
    "        return {\n",
    "            'input_ids': self.input_ids[idx],\n",
    "            'token_type_ids': self.token_type_ids[idx],\n",
    "            'attention_mask': self.attention_mask[idx],\n",
    "            'labels': self.labels[idx]\n",
    "        }\n"
   ]
  },
  {
   "cell_type": "code",
   "execution_count": 3,
   "id": "e4c986f1-289a-466a-bfb3-bdd56bb6b190",
   "metadata": {
    "tags": []
   },
   "outputs": [],
   "source": [
    "# Load each part of the dataset\n",
    "data_parts = []\n",
    "for i in range(1, 6):\n",
    "    part_data = torch.load(f'./YELP-Rating/prep2_yelp_data_part_{i}.pt')\n",
    "    data_parts.append(part_data)"
   ]
  },
  {
   "cell_type": "code",
   "execution_count": 4,
   "id": "e52cb1b8-418f-4ef9-a30f-073ad47f1bac",
   "metadata": {
    "tags": []
   },
   "outputs": [],
   "source": [
    "from torch.utils.data import TensorDataset, DataLoader\n",
    "# Combine data_parts into a single TensorDataset\n",
    "full_dataset = TensorDataset(\n",
    "    torch.cat([part['input_ids'] for part in data_parts]),\n",
    "    torch.cat([part['token_type_ids'] for part in data_parts]),\n",
    "    torch.cat([part['attention_mask'] for part in data_parts]),\n",
    "    torch.cat([part['labels'] for part in data_parts])\n",
    ")"
   ]
  },
  {
   "cell_type": "code",
   "execution_count": 4,
   "id": "57564d8b-263f-4aa9-81c2-bfdee8a3f95e",
   "metadata": {
    "tags": []
   },
   "outputs": [],
   "source": [
    "# Load each part of the dataset\n",
    "data_parts = []\n",
    "for i in range(1, 6):\n",
    "    part_data = torch.load(f'test_prep_yelp_data_part_{i}.pt')\n",
    "    data_parts.append(part_data)"
   ]
  },
  {
   "cell_type": "code",
   "execution_count": 5,
   "id": "0f805788-132c-4215-a5e0-aa4e43869cdc",
   "metadata": {
    "tags": []
   },
   "outputs": [],
   "source": [
    "from torch.utils.data import TensorDataset, DataLoader\n",
    "# Combine data_parts into a single TensorDataset\n",
    "test_dataset = TensorDataset(\n",
    "    torch.cat([part['input_ids'] for part in data_parts]),\n",
    "    torch.cat([part['token_type_ids'] for part in data_parts]),\n",
    "    torch.cat([part['attention_mask'] for part in data_parts]),\n",
    "    torch.cat([part['labels'] for part in data_parts])\n",
    ")"
   ]
  },
  {
   "cell_type": "code",
   "execution_count": 6,
   "id": "05a0f854-383a-4209-8348-59babde6f27a",
   "metadata": {
    "tags": []
   },
   "outputs": [],
   "source": [
    "#subset_indices = range(500)  # Example indices for the subset\n",
    "\n",
    "#full_dataset = torch.utils.data.Subset(full_dataset, subset_indices)"
   ]
  },
  {
   "cell_type": "code",
   "execution_count": 7,
   "id": "ff31c52e-e7cd-43c9-9adf-683d07e95108",
   "metadata": {
    "tags": []
   },
   "outputs": [],
   "source": [
    "import torch\n",
    "from sklearn.model_selection import train_test_split\n",
    "\n",
    "\n",
    "# Use train_test_split to split the dataset into training, validation, and test sets\n",
    "train_size = int(0.9 * len(full_dataset))\n",
    "val_size = (len(full_dataset) - train_size)\n",
    "\n",
    "train_dataset, val_dataset = torch.utils.data.random_split(\n",
    "    full_dataset, [train_size, val_size], generator=torch.Generator().manual_seed(42)\n",
    ")\n",
    "\n",
    "# Define batch size\n",
    "batch_size = 32\n",
    "\n",
    "# Create data loaders\n",
    "train_loader = DataLoader(train_dataset, batch_size=batch_size, shuffle=True, num_workers=8)\n",
    "val_loader = DataLoader(val_dataset, batch_size=batch_size, shuffle=False, num_workers=8)\n",
    "test_loader = DataLoader(test_dataset, batch_size=batch_size, shuffle=False, num_workers=8)"
   ]
  },
  {
   "cell_type": "code",
   "execution_count": 8,
   "id": "cf1366fa-5854-4f1c-b277-775a78eb8196",
   "metadata": {
    "tags": []
   },
   "outputs": [
    {
     "name": "stderr",
     "output_type": "stream",
     "text": [
      "/opt/conda/lib/python3.10/site-packages/huggingface_hub/file_download.py:1132: FutureWarning: `resume_download` is deprecated and will be removed in version 1.0.0. Downloads always resume when possible. If you want to force a new download, use `force_download=True`.\n",
      "  warnings.warn(\n",
      "Some weights of BertForSequenceClassification were not initialized from the model checkpoint at bert-base-uncased and are newly initialized: ['classifier.bias', 'classifier.weight']\n",
      "You should probably TRAIN this model on a down-stream task to be able to use it for predictions and inference.\n",
      "/opt/conda/lib/python3.10/site-packages/transformers/optimization.py:521: FutureWarning: This implementation of AdamW is deprecated and will be removed in a future version. Use the PyTorch implementation torch.optim.AdamW instead, or set `no_deprecation_warning=True` to disable this warning\n",
      "  warnings.warn(\n"
     ]
    },
    {
     "data": {
      "text/plain": [
       "BertForSequenceClassification(\n",
       "  (bert): BertModel(\n",
       "    (embeddings): BertEmbeddings(\n",
       "      (word_embeddings): Embedding(30522, 768, padding_idx=0)\n",
       "      (position_embeddings): Embedding(512, 768)\n",
       "      (token_type_embeddings): Embedding(2, 768)\n",
       "      (LayerNorm): LayerNorm((768,), eps=1e-12, elementwise_affine=True)\n",
       "      (dropout): Dropout(p=0.1, inplace=False)\n",
       "    )\n",
       "    (encoder): BertEncoder(\n",
       "      (layer): ModuleList(\n",
       "        (0-11): 12 x BertLayer(\n",
       "          (attention): BertAttention(\n",
       "            (self): BertSelfAttention(\n",
       "              (query): Linear(in_features=768, out_features=768, bias=True)\n",
       "              (key): Linear(in_features=768, out_features=768, bias=True)\n",
       "              (value): Linear(in_features=768, out_features=768, bias=True)\n",
       "              (dropout): Dropout(p=0.1, inplace=False)\n",
       "            )\n",
       "            (output): BertSelfOutput(\n",
       "              (dense): Linear(in_features=768, out_features=768, bias=True)\n",
       "              (LayerNorm): LayerNorm((768,), eps=1e-12, elementwise_affine=True)\n",
       "              (dropout): Dropout(p=0.1, inplace=False)\n",
       "            )\n",
       "          )\n",
       "          (intermediate): BertIntermediate(\n",
       "            (dense): Linear(in_features=768, out_features=3072, bias=True)\n",
       "            (intermediate_act_fn): GELUActivation()\n",
       "          )\n",
       "          (output): BertOutput(\n",
       "            (dense): Linear(in_features=3072, out_features=768, bias=True)\n",
       "            (LayerNorm): LayerNorm((768,), eps=1e-12, elementwise_affine=True)\n",
       "            (dropout): Dropout(p=0.1, inplace=False)\n",
       "          )\n",
       "        )\n",
       "      )\n",
       "    )\n",
       "    (pooler): BertPooler(\n",
       "      (dense): Linear(in_features=768, out_features=768, bias=True)\n",
       "      (activation): Tanh()\n",
       "    )\n",
       "  )\n",
       "  (dropout): Dropout(p=0.1, inplace=False)\n",
       "  (classifier): Linear(in_features=768, out_features=5, bias=True)\n",
       ")"
      ]
     },
     "execution_count": 8,
     "metadata": {},
     "output_type": "execute_result"
    }
   ],
   "source": [
    "from transformers import BertTokenizer, BertForSequenceClassification, AdamW, get_linear_schedule_with_warmup\n",
    "from torch.utils.data import TensorDataset, DataLoader\n",
    "# Fine-tune BERT\n",
    "model = BertForSequenceClassification.from_pretrained(\"bert-base-uncased\", num_labels=5)\n",
    "# Freeze BERT parameters\n",
    "for param in model.bert.parameters():\n",
    "    param.requires_grad = False\n",
    "for param in model.classifier.parameters():\n",
    "    param.requires_grad = True\n",
    "\n",
    "# Specify hyperparameters\n",
    "epochs = 4\n",
    "learning_rate = 2e-4\n",
    "warmup_steps = 3\n",
    "\n",
    "# Set up the optimizer and learning rate scheduler\n",
    "optimizer = AdamW(model.parameters(), lr=learning_rate)\n",
    "total_steps = len(train_loader) * epochs\n",
    "scheduler = get_linear_schedule_with_warmup(optimizer, num_warmup_steps=warmup_steps, num_training_steps=total_steps)\n",
    "\n",
    "# Train the model\n",
    "device = torch.device(\"cuda\" if torch.cuda.is_available() else \"cpu\")\n",
    "model.to(device)"
   ]
  },
  {
   "cell_type": "code",
   "execution_count": null,
   "id": "002df0eb-71f6-4365-be78-b8e2d5d04cef",
   "metadata": {
    "tags": []
   },
   "outputs": [],
   "source": [
    "%%capture outs1\n",
    "# Training loop\n",
    "for epoch in range(epochs):\n",
    "    # Training loop with tqdm\n",
    "    model.train()\n",
    "    total_train_loss = 0\n",
    "    total_train_accuracy = 0\n",
    "    print(f'Epoch {epoch+1}/{epochs}')\n",
    "    #progress_bar_train = tqdm(train_loader, desc=f'Epoch {epoch+1}/{epochs} (Training)')\n",
    "    for batch in train_loader:\n",
    "    #for batch in progress_bar_train:\n",
    "        input_ids = batch[0].to(device)\n",
    "        token_type_ids = batch[1].to(device)\n",
    "        attention_mask = batch[2].to(device)\n",
    "        labels = batch[3].to(device)\n",
    "        \n",
    "        model.zero_grad()\n",
    "        \n",
    "        outputs = model(input_ids=input_ids, token_type_ids=token_type_ids, attention_mask=attention_mask, labels=labels)\n",
    "        \n",
    "        loss = outputs.loss\n",
    "        total_train_loss += loss.item()\n",
    "        \n",
    "        # Calculate accuracy\n",
    "        logits = outputs.logits\n",
    "        predictions = torch.argmax(logits, dim=-1)\n",
    "        accuracy = (predictions == labels).float().mean()\n",
    "        total_train_accuracy += accuracy.item()\n",
    "        \n",
    "        loss.backward()\n",
    "        \n",
    "        optimizer.step()\n",
    "        scheduler.step()\n",
    "        \n",
    "        #progress_bar_train.set_postfix({'Training Loss': total_train_loss / len(progress_bar_train), 'Training Accuracy': total_train_accuracy / len(progress_bar_train)})\n",
    "\n",
    "    # Validation loop with tqdm\n",
    "    model.eval()\n",
    "    total_val_loss = 0\n",
    "    total_val_accuracy = 0\n",
    "    #print(f'Epoch {epoch+1}/{epochs} (Validation)')\n",
    "    #progress_bar_val = tqdm(val_loader, desc=f'Epoch {epoch+1}/{epochs} (Validation)')\n",
    "    with torch.no_grad():\n",
    "        for batch in val_loader:\n",
    "        #for batch in progress_bar_val:\n",
    "            input_ids = batch[0].to(device)\n",
    "            token_type_ids = batch[1].to(device)\n",
    "            attention_mask = batch[2].to(device)\n",
    "            labels = batch[3].to(device)\n",
    "\n",
    "            outputs = model(input_ids=input_ids, token_type_ids=token_type_ids, attention_mask=attention_mask, labels=labels)\n",
    "\n",
    "            loss = outputs.loss\n",
    "            total_val_loss += loss.item()\n",
    "            \n",
    "            # Calculate accuracy\n",
    "            logits = outputs.logits\n",
    "            predictions = torch.argmax(logits, dim=-1)\n",
    "            accuracy = (predictions == labels).float().mean()\n",
    "            total_val_accuracy += accuracy.item()\n",
    "            \n",
    "            #progress_bar_val.set_postfix({'Validation Loss': total_val_loss / len(progress_bar_val), 'Validation Accuracy': total_val_accuracy / len(progress_bar_val)})\n",
    "            \n",
    "    # Calculate average loss and accuracy\n",
    "    avg_train_loss = total_train_loss / len(train_loader)\n",
    "    avg_val_loss = total_val_loss / len(val_loader)\n",
    "    avg_train_accuracy = total_train_accuracy / len(train_loader)\n",
    "    \n",
    "    print(f'Training Loss: {total_train_loss / len(train_loader)}, Training Accuracy: {total_train_accuracy / len(train_loader)}')\n",
    "    print(f'Validation Loss: {total_val_loss / len(val_loader)}, Validation Accuracy: {total_val_accuracy / len(val_loader)}')"
   ]
  },
  {
   "cell_type": "code",
   "execution_count": null,
   "id": "c29bee06-dd06-4ce8-bd27-a5e4f1413dd2",
   "metadata": {
    "tags": []
   },
   "outputs": [],
   "source": [
    "outs1()"
   ]
  },
  {
   "cell_type": "code",
   "execution_count": null,
   "id": "1af45696-8207-4122-bbde-ab0273cae2d8",
   "metadata": {},
   "outputs": [],
   "source": [
    "%%capture outs2\n",
    "# Testing loop with tqdm\n",
    "model.eval()\n",
    "total_test_loss = 0\n",
    "total_test_accuracy = 0\n",
    "progress_bar_test = tqdm(test_loader, desc=f'Epoch {epoch+1}/{epochs} (Testing)')\n",
    "with torch.no_grad():\n",
    "    for batch in progress_bar_test:\n",
    "        input_ids = batch[0].to(device)\n",
    "        token_type_ids = batch[1].to(device)\n",
    "        attention_mask = batch[2].to(device)\n",
    "        labels = batch[3].to(device)\n",
    "\n",
    "        outputs = model(input_ids=input_ids, token_type_ids=token_type_ids, attention_mask=attention_mask, labels=labels)\n",
    "\n",
    "        loss = outputs.loss\n",
    "        total_test_loss += loss.item()\n",
    "        \n",
    "        # Calculate accuracy\n",
    "        logits = outputs.logits\n",
    "        predictions = torch.argmax(logits, dim=-1)\n",
    "        accuracy = (predictions == labels).float().mean()\n",
    "        total_test_accuracy += accuracy.item()\n",
    "        \n",
    "        progress_bar_test.set_postfix({'Testing Loss': total_test_loss / len(progress_bar_test),\n",
    "                                       'Testing Accuracy': total_test_accuracy / len(progress_bar_test)})\n",
    "    \n",
    "# Calculate average loss and accuracy\n",
    "avg_test_loss = total_test_loss / len(test_loader)\n",
    "avg_test_accuracy = total_test_accuracy / len(test_loader)\n",
    "\n",
    "# Print the average testing loss and accuracy\n",
    "print(f'Average Testing Loss: {avg_test_loss:.4f}, Average Testing Accuracy: {avg_test_accuracy:.4f}')"
   ]
  },
  {
   "cell_type": "code",
   "execution_count": null,
   "id": "1d6b76e3-e9e5-48a1-b174-91a7c87b4b63",
   "metadata": {
    "tags": []
   },
   "outputs": [],
   "source": [
    "outs2()"
   ]
  },
  {
   "cell_type": "code",
   "execution_count": null,
   "id": "1f0fe4db-eddf-477b-ac70-2cb235f46db9",
   "metadata": {
    "tags": []
   },
   "outputs": [],
   "source": [
    "# Save the model and its parameters\n",
    "torch.save(model.state_dict(), 'model_4.pth')"
   ]
  },
  {
   "cell_type": "code",
   "execution_count": 12,
   "id": "8b304fb8-ec56-43c1-9ea1-7858afad1357",
   "metadata": {},
   "outputs": [
    {
     "name": "stdout",
     "output_type": "stream",
     "text": [
      "Epoch 1/4\n",
      "Training Loss: 1.393277020752267, Training Accuracy: 0.3917548681763483\n",
      "Validation Loss: 1.283207580095201, Validation Accuracy: 0.44895730807086615\n",
      "Epoch 2/4\n",
      "Training Loss: 1.327565246139701, Training Accuracy: 0.42273308445465485\n",
      "Validation Loss: 1.2616023259956066, Validation Accuracy: 0.4568467027559055\n",
      "Epoch 3/4\n",
      "Training Loss: 1.3164710248276932, Training Accuracy: 0.42795851110381794\n",
      "Validation Loss: 1.2477558573751937, Validation Accuracy: 0.46315206692913385\n",
      "Epoch 4/4\n",
      "Training Loss: 1.31130342439637, Training Accuracy: 0.4303943086095613\n",
      "Validation Loss: 1.2446318346801706, Validation Accuracy: 0.4646438238188976\n"
     ]
    }
   ],
   "source": [
    "outs1()"
   ]
  },
  {
   "cell_type": "code",
   "execution_count": 13,
   "id": "edca9186-4f82-4ddd-b9b0-37d1309bb559",
   "metadata": {
    "tags": []
   },
   "outputs": [
    {
     "name": "stdout",
     "output_type": "stream",
     "text": [
      "Average Testing Loss: 1.2431, Average Testing Accuracy: 0.4626\n"
     ]
    },
    {
     "name": "stderr",
     "output_type": "stream",
     "text": [
      "Epoch 4/4 (Testing): 100%|##########| 1563/1563 [14:34<00:00,  1.79it/s, Testing Loss=1.24, Testing Accuracy=0.463]   \n"
     ]
    }
   ],
   "source": [
    "outs2()"
   ]
  },
  {
   "cell_type": "code",
   "execution_count": 14,
   "id": "ee958503-38d0-4297-b287-47db4d0b6ad7",
   "metadata": {},
   "outputs": [
    {
     "name": "stderr",
     "output_type": "stream",
     "text": [
      "Epoch 4/4 (Testing): 100%|███| 1563/1563 [14:34<00:00,  1.79it/s, Testing Loss=1.24, Testing Accuracy=0.463]"
     ]
    },
    {
     "name": "stdout",
     "output_type": "stream",
     "text": [
      "Average Testing Loss: 1.2431, Average Testing Accuracy: 0.4626\n"
     ]
    },
    {
     "name": "stderr",
     "output_type": "stream",
     "text": [
      "\n"
     ]
    }
   ],
   "source": [
    "model.eval()\n",
    "total_test_loss = 0\n",
    "total_test_accuracy = 0\n",
    "progress_bar_test = tqdm(test_loader, desc=f'Epoch {epoch+1}/{epochs} (Testing)')\n",
    "\n",
    "# Lists to store predictions and true labels\n",
    "all_predictions = []\n",
    "all_labels = []\n",
    "\n",
    "with torch.no_grad():\n",
    "    for batch in progress_bar_test:\n",
    "        input_ids = batch[0].to(device)\n",
    "        token_type_ids = batch[1].to(device)\n",
    "        attention_mask = batch[2].to(device)\n",
    "        labels = batch[3].to(device)\n",
    "\n",
    "        outputs = model(input_ids=input_ids, token_type_ids=token_type_ids, attention_mask=attention_mask, labels=labels)\n",
    "\n",
    "        loss = outputs.loss\n",
    "        total_test_loss += loss.item()\n",
    "        \n",
    "        # Calculate accuracy\n",
    "        logits = outputs.logits\n",
    "        predictions = torch.argmax(logits, dim=-1)\n",
    "        accuracy = (predictions == labels).float().mean()\n",
    "        total_test_accuracy += accuracy.item()\n",
    "        \n",
    "        # Store predictions and true labels\n",
    "        all_predictions.extend(predictions.cpu().numpy())\n",
    "        all_labels.extend(labels.cpu().numpy())\n",
    "        \n",
    "        progress_bar_test.set_postfix({'Testing Loss': total_test_loss / len(progress_bar_test),\n",
    "                                       'Testing Accuracy': total_test_accuracy / len(progress_bar_test)})\n",
    "    \n",
    "# Calculate average loss and accuracy\n",
    "avg_test_loss = total_test_loss / len(test_loader)\n",
    "avg_test_accuracy = total_test_accuracy / len(test_loader)\n",
    "\n",
    "# Print the average testing loss and accuracy\n",
    "print(f'Average Testing Loss: {avg_test_loss:.4f}, Average Testing Accuracy: {avg_test_accuracy:.4f}')\n"
   ]
  },
  {
   "cell_type": "code",
   "execution_count": 17,
   "id": "314b18d9-68ce-4da0-b63c-2c2313c27c71",
   "metadata": {
    "tags": []
   },
   "outputs": [
    {
     "data": {
      "image/png": "[encoded data removed]",
      "text/plain": [
       "<Figure size 1000x800 with 2 Axes>"
      ]
     },
     "metadata": {},
     "output_type": "display_data"
    }
   ],
   "source": [
    "import seaborn as sns\n",
    "import matplotlib.pyplot as plt\n",
    "from sklearn.metrics import confusion_matrix\n",
    "\n",
    "# Calculate the confusion matrix\n",
    "cm = confusion_matrix(all_labels, all_predictions)\n",
    "\n",
    "# Create a heatmap\n",
    "plt.figure(figsize=(10, 8))\n",
    "sns.heatmap(cm, annot=True, fmt='d', cmap='Blues')\n",
    "plt.xlabel('Predicted Labels')\n",
    "plt.ylabel('True Labels')\n",
    "plt.title('Confusion Matrix')\n",
    "plt.show()"
   ]
  },
  {
   "cell_type": "code",
   "execution_count": null,
   "id": "7e2603b8-d140-41b5-9cff-a03e542730dc",
   "metadata": {},
   "outputs": [],
   "source": []
  }
 ],
 "metadata": {
  "kernelspec": {
   "display_name": "Python 3 (Local)",
   "language": "python",
   "name": "python3"
  },
  "language_info": {
   "codemirror_mode": {
    "name": "ipython",
    "version": 3
   },
   "file_extension": ".py",
   "mimetype": "text/x-python",
   "name": "python",
   "nbconvert_exporter": "python",
   "pygments_lexer": "ipython3",
   "version": "3.10.14"
  }
 },
 "nbformat": 4,
 "nbformat_minor": 5
}
